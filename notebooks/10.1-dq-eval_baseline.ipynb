{
 "cells": [
  {
   "cell_type": "markdown",
   "metadata": {},
   "source": [
    "**This notebook is modified for UBC MDS-MDA Capstone project based on the eval.py code from this [repo](https://github.com/tylin/coco-caption/blob/master/pycocoevalcap/eval.py)**"
   ]
  },
  {
   "cell_type": "code",
   "execution_count": 1,
   "metadata": {},
   "outputs": [],
   "source": [
    "import json\n",
    "import pandas as pd\n",
    "import numpy as np"
   ]
  },
  {
   "cell_type": "markdown",
   "metadata": {},
   "source": [
    "## 1. Import metric scripts"
   ]
  },
  {
   "cell_type": "code",
   "execution_count": 2,
   "metadata": {},
   "outputs": [],
   "source": [
    "# import metric scripts\n",
    "import sys\n",
    "sys.path.append('../scr/evaluation/')\n",
    "from pycocoevalcap.tokenizer.ptbtokenizer import PTBTokenizer\n",
    "from pycocoevalcap.bleu.bleu import Bleu\n",
    "from pycocoevalcap.meteor.meteor import Meteor\n",
    "from pycocoevalcap.rouge.rouge import Rouge\n",
    "from pycocoevalcap.cider.cider import Cider\n",
    "from pycocoevalcap.spice.spice import Spice"
   ]
  },
  {
   "cell_type": "code",
   "execution_count": 3,
   "metadata": {},
   "outputs": [
    {
     "name": "stdout",
     "output_type": "stream",
     "text": [
      "Found Stanford CoreNLP.\n"
     ]
    }
   ],
   "source": [
    "# download Stanford models\n",
    "!../scr/evaluation/get_stanford_models.sh"
   ]
  },
  {
   "cell_type": "markdown",
   "metadata": {},
   "source": [
    "## 2. Load reference captions and generated captions"
   ]
  },
  {
   "cell_type": "code",
   "execution_count": 4,
   "metadata": {},
   "outputs": [],
   "source": [
    "# reference captions\n",
    "ref_path = '../data/processed/json/'\n",
    "with open(ref_path + 'valid.json', 'r') as jsonFile:\n",
    "    data = json.load(jsonFile)\n",
    "    \n",
    "# generated captions\n",
    "results_path = '../models'\n",
    "with open(results_path + '/' + 'test_results.json', 'r') as f:\n",
    "    results = json.load(f)"
   ]
  },
  {
   "cell_type": "markdown",
   "metadata": {},
   "source": [
    "## 3. Format the inputs and tokenize"
   ]
  },
  {
   "cell_type": "code",
   "execution_count": 5,
   "metadata": {},
   "outputs": [],
   "source": [
    "# format the inputs\n",
    "img_id_dict = {'image_id': list(data.keys())}\n",
    "\n",
    "imgIds = img_id_dict['image_id']\n",
    "gts = {}\n",
    "res = {}\n",
    "\n",
    "required_key = { 'raw', 'imgid', 'sentid' }\n",
    "\n",
    "for imgId in imgIds:\n",
    "    caption_list = data[imgId]['sentences']\n",
    "    caption_list_sel = []\n",
    "    for i in caption_list:\n",
    "        lst = { key:value for key,value in i.items() if key in required_key}\n",
    "        lst['caption'] = lst.pop('raw')\n",
    "        lst['image_id'] = lst.pop('imgid')\n",
    "        lst['id'] = lst.pop('sentid')\n",
    "        caption_list_sel.append(lst)\n",
    "    gts[imgId] = caption_list_sel\n",
    "    \n",
    "    generated = [{'caption': results[imgId]}]\n",
    "    res[imgId] = generated"
   ]
  },
  {
   "cell_type": "code",
   "execution_count": 6,
   "metadata": {},
   "outputs": [
    {
     "name": "stdout",
     "output_type": "stream",
     "text": [
      "tokenization...\n"
     ]
    }
   ],
   "source": [
    "# tokenize\n",
    "print('tokenization...')\n",
    "tokenizer = PTBTokenizer()\n",
    "gts  = tokenizer.tokenize(gts)\n",
    "res = tokenizer.tokenize(res)"
   ]
  },
  {
   "cell_type": "markdown",
   "metadata": {},
   "source": [
    "## 4. Evaluate the model results"
   ]
  },
  {
   "cell_type": "code",
   "execution_count": 63,
   "metadata": {},
   "outputs": [],
   "source": [
    "def compute_score(reference, generated):\n",
    "    \"\"\"\n",
    "    compute the evaluation metrics for the model\n",
    "    \n",
    "    Parameters\n",
    "    -----------\n",
    "    reference: dict\n",
    "        a dictionary contains all the reference captions\n",
    "    \n",
    "    generated: dict\n",
    "        a dictionary contains all the generated captions\n",
    "    \n",
    "    Returns\n",
    "    ----------\n",
    "    a dict showing the overall model scores\n",
    "    a dict showing the individual image scores\n",
    "    \"\"\"\n",
    "    scorers = [\n",
    "    (Bleu(4), [\"Bleu_1\", \"Bleu_2\", \"Bleu_3\", \"Bleu_4\"]),\n",
    "    (Meteor(),\"METEOR\"),\n",
    "    (Rouge(), \"ROUGE_L\"),\n",
    "    (Cider(), \"CIDEr\"),\n",
    "    (Spice(), \"SPICE\")\n",
    "    ]\n",
    "    score_dict = {}\n",
    "    scores_dict = {}\n",
    "    for scorer, method in scorers:\n",
    "        print('computing %s score...'%(scorer.method()))\n",
    "        score, scores = scorer.compute_score(reference, generated)\n",
    "        if type(method) == list:\n",
    "            for sc, scs, m in zip(score, scores, method):\n",
    "                score_dict[m] = sc\n",
    "                scores_dict[m] = scs\n",
    "        else:\n",
    "            score_dict[method] = score\n",
    "            scores_dict[method] = scores\n",
    "            \n",
    "    # format the individual scores\n",
    "    img_score_dict = {}\n",
    "    for n in range(len(generated)):\n",
    "        img_name = list(generated.keys())[n]\n",
    "        img_score_dict[img_name] = {}\n",
    "        for metrics in scores_dict.keys():\n",
    "            if metrics == 'SPICE':\n",
    "                img_score_dict[img_name][metrics] = scores_dict[metrics][n]['All']['f']\n",
    "            else:\n",
    "                img_score_dict[img_name][metrics] = scores_dict[metrics][n]\n",
    "                \n",
    "    return score_dict, img_score_dict"
   ]
  },
  {
   "cell_type": "code",
   "execution_count": 66,
   "metadata": {},
   "outputs": [
    {
     "name": "stdout",
     "output_type": "stream",
     "text": [
      "computing Bleu score...\n",
      "{'testlen': 21524, 'reflen': 21224, 'guess': [21524, 19440, 17356, 15272], 'correct': [13527, 7790, 5135, 3541]}\n",
      "ratio: 1.014134941575527\n",
      "computing METEOR score...\n",
      "computing Rouge score...\n",
      "computing CIDEr score...\n",
      "computing SPICE score...\n"
     ]
    },
    {
     "data": {
      "text/html": [
       "<div>\n",
       "<style scoped>\n",
       "    .dataframe tbody tr th:only-of-type {\n",
       "        vertical-align: middle;\n",
       "    }\n",
       "\n",
       "    .dataframe tbody tr th {\n",
       "        vertical-align: top;\n",
       "    }\n",
       "\n",
       "    .dataframe thead th {\n",
       "        text-align: right;\n",
       "    }\n",
       "</style>\n",
       "<table border=\"1\" class=\"dataframe\">\n",
       "  <thead>\n",
       "    <tr style=\"text-align: right;\">\n",
       "      <th></th>\n",
       "      <th>Baseline model</th>\n",
       "    </tr>\n",
       "  </thead>\n",
       "  <tbody>\n",
       "    <tr>\n",
       "      <th>Bleu_1</th>\n",
       "      <td>0.628461</td>\n",
       "    </tr>\n",
       "    <tr>\n",
       "      <th>Bleu_2</th>\n",
       "      <td>0.501834</td>\n",
       "    </tr>\n",
       "    <tr>\n",
       "      <th>Bleu_3</th>\n",
       "      <td>0.420795</td>\n",
       "    </tr>\n",
       "    <tr>\n",
       "      <th>Bleu_4</th>\n",
       "      <td>0.362544</td>\n",
       "    </tr>\n",
       "    <tr>\n",
       "      <th>METEOR</th>\n",
       "      <td>0.289759</td>\n",
       "    </tr>\n",
       "    <tr>\n",
       "      <th>ROUGE_L</th>\n",
       "      <td>0.535357</td>\n",
       "    </tr>\n",
       "    <tr>\n",
       "      <th>CIDEr</th>\n",
       "      <td>2.050211</td>\n",
       "    </tr>\n",
       "    <tr>\n",
       "      <th>SPICE</th>\n",
       "      <td>0.379176</td>\n",
       "    </tr>\n",
       "  </tbody>\n",
       "</table>\n",
       "</div>"
      ],
      "text/plain": [
       "         Baseline model\n",
       "Bleu_1         0.628461\n",
       "Bleu_2         0.501834\n",
       "Bleu_3         0.420795\n",
       "Bleu_4         0.362544\n",
       "METEOR         0.289759\n",
       "ROUGE_L        0.535357\n",
       "CIDEr          2.050211\n",
       "SPICE          0.379176"
      ]
     },
     "execution_count": 66,
     "metadata": {},
     "output_type": "execute_result"
    }
   ],
   "source": [
    "# View the overall average score for the model\n",
    "model_score, img_score = compute_score(gts,res)\n",
    "result_df = pd.DataFrame(model_score, index = ['Baseline model']).T\n",
    "result_df"
   ]
  },
  {
   "cell_type": "code",
   "execution_count": 68,
   "metadata": {},
   "outputs": [],
   "source": [
    "# save the evaluation results into json data\n",
    "save_path = '../models/'\n",
    "with open(save_path + 'baseline_score.json', 'w') as fp:\n",
    "    json.dump(model_score, fp)\n",
    "    \n",
    "with open(save_path + 'baseline_img_score.json', 'w') as fp1:\n",
    "    json.dump(img_score, fp1)"
   ]
  },
  {
   "cell_type": "code",
   "execution_count": null,
   "metadata": {},
   "outputs": [],
   "source": []
  }
 ],
 "metadata": {
  "kernelspec": {
   "display_name": "Python 3",
   "language": "python",
   "name": "python3"
  },
  "language_info": {
   "codemirror_mode": {
    "name": "ipython",
    "version": 3
   },
   "file_extension": ".py",
   "mimetype": "text/x-python",
   "name": "python",
   "nbconvert_exporter": "python",
   "pygments_lexer": "ipython3",
   "version": "3.7.6"
  }
 },
 "nbformat": 4,
 "nbformat_minor": 4
}
