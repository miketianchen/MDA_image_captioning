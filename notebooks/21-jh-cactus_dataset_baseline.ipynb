{
 "cells": [
  {
   "cell_type": "markdown",
   "metadata": {
    "colab_type": "text",
    "id": "lYUHk6sxO2pO"
   },
   "source": [
    "# CNN trained on cactus data\n",
    "\n",
    "## Adapted from DSCI 572 Lab 4"
   ]
  },
  {
   "cell_type": "code",
   "execution_count": 37,
   "metadata": {
    "colab": {},
    "colab_type": "code",
    "id": "AoVG1Z3FO2pQ"
   },
   "outputs": [],
   "source": [
    "import numpy as np\n",
    "import pandas as pd\n",
    "import os\n",
    "\n",
    "from sklearn.model_selection import train_test_split\n",
    "from scipy.signal import convolve2d\n",
    "\n",
    "from skimage.io import imread\n",
    "import re\n",
    "import matplotlib.pyplot as plt\n",
    "%matplotlib inline\n",
    "import time\n",
    "import os\n",
    "import json\n",
    "from collections import defaultdict\n",
    "from tqdm import tqdm\n",
    "import pickle\n",
    "from time import time\n",
    "import numpy as np\n",
    "from PIL import Image\n",
    "import matplotlib.pyplot as plt\n",
    "from itertools import chain\n",
    "from skimage.color import rgb2gray\n",
    "from skimage.transform import resize\n",
    "\n",
    "import tensorflow as tf\n",
    "from tensorflow.keras.datasets import mnist\n",
    "from tensorflow.keras.layers import Dense, Dropout, Flatten, Activation, Conv2D, MaxPooling2D, GlobalAveragePooling2D\n",
    "from tensorflow.keras.models import Sequential, Model, load_model\n",
    "from tensorflow.keras.optimizers import Adam, SGD\n",
    "from tensorflow.keras.preprocessing.image import img_to_array, load_img\n",
    "from tensorflow.keras import utils\n",
    "from tensorflow.keras.applications.inception_v3 import InceptionV3"
   ]
  },
  {
   "cell_type": "code",
   "execution_count": 38,
   "metadata": {
    "colab": {},
    "colab_type": "code",
    "id": "G-ePax-DO2pS"
   },
   "outputs": [],
   "source": [
    "plt.rcParams['font.size'] = 16"
   ]
  },
  {
   "cell_type": "markdown",
   "metadata": {},
   "source": [
    "## Getting image paths and labels"
   ]
  },
  {
   "cell_type": "code",
   "execution_count": 39,
   "metadata": {
    "colab_type": "text",
    "id": "nvsR_W_tO2qN"
   },
   "outputs": [],
   "source": [
    "root_path = \"../data/\""
   ]
  },
  {
   "cell_type": "code",
   "execution_count": 92,
   "metadata": {},
   "outputs": [],
   "source": [
    "def get_img_paths():\n",
    "    \"\"\"\n",
    "    Returns img paths for cactus dataset\n",
    "\n",
    "    --------\n",
    "    list, list, list, list: \n",
    "        training image paths, testing image paths, training classes, testing classes\n",
    "    \"\"\"\n",
    "    train_img_path = []\n",
    "    train_img_class = []\n",
    "    test_img_path = []\n",
    "    test_img_class = []\n",
    "    for root, dirs, files in os.walk(os.path.abspath(root_path + \"training_set/training_set/no_cactus\")):\n",
    "        for file in files:\n",
    "            train_img_path.append(file)\n",
    "            train_img_class.append(\"no_cactus\")\n",
    "    for root, dirs, files in os.walk(os.path.abspath(root_path + \"training_set/training_set/cactus\")):\n",
    "        for file in files:\n",
    "            train_img_path.append(file)\n",
    "            train_img_class.append(\"cactus\")\n",
    "    for root, dirs, files in os.walk(os.path.abspath(root_path + \"validation_set/validation_set/no_cactus\")):\n",
    "        for file in files:\n",
    "            test_img_path.append(file)\n",
    "            test_img_class.append(\"no_cactus\")\n",
    "    for root, dirs, files in os.walk(os.path.abspath(root_path + \"validation_set/validation_set/cactus\")):\n",
    "        for file in files:\n",
    "            test_img_path.append(file)\n",
    "            test_img_class.append(\"cactus\")\n",
    "    return train_img_path, test_img_path, train_img_class, test_img_class\n"
   ]
  },
  {
   "cell_type": "code",
   "execution_count": 93,
   "metadata": {},
   "outputs": [
    {
     "data": {
      "text/plain": [
       "17500"
      ]
     },
     "execution_count": 93,
     "metadata": {},
     "output_type": "execute_result"
    }
   ],
   "source": [
    "len(get_img_paths()[0])"
   ]
  },
  {
   "cell_type": "code",
   "execution_count": 94,
   "metadata": {},
   "outputs": [
    {
     "data": {
      "text/plain": [
       "4000"
      ]
     },
     "execution_count": 94,
     "metadata": {},
     "output_type": "execute_result"
    }
   ],
   "source": [
    "len(get_img_paths()[1])"
   ]
  },
  {
   "cell_type": "code",
   "execution_count": 95,
   "metadata": {},
   "outputs": [],
   "source": [
    "train_path, test_path, train_class, test_class = get_img_paths()"
   ]
  },
  {
   "cell_type": "code",
   "execution_count": 96,
   "metadata": {},
   "outputs": [
    {
     "data": {
      "text/plain": [
       "'Sinplanta.3141.jpg'"
      ]
     },
     "execution_count": 96,
     "metadata": {},
     "output_type": "execute_result"
    }
   ],
   "source": [
    "train_path[1]"
   ]
  },
  {
   "cell_type": "code",
   "execution_count": 97,
   "metadata": {},
   "outputs": [
    {
     "data": {
      "text/plain": [
       "'no_cactus'"
      ]
     },
     "execution_count": 97,
     "metadata": {},
     "output_type": "execute_result"
    }
   ],
   "source": [
    "train_class[1]"
   ]
  },
  {
   "cell_type": "code",
   "execution_count": 104,
   "metadata": {},
   "outputs": [
    {
     "name": "stdout",
     "output_type": "stream",
     "text": [
      "17500\n",
      "2\n"
     ]
    }
   ],
   "source": [
    "print(len(train_class))\n",
    "print(len(set(train_class)))"
   ]
  },
  {
   "cell_type": "code",
   "execution_count": 108,
   "metadata": {},
   "outputs": [
    {
     "data": {
      "text/plain": [
       "{'cactus', 'no_cactus'}"
      ]
     },
     "execution_count": 108,
     "metadata": {},
     "output_type": "execute_result"
    }
   ],
   "source": [
    "labels = set(train_class)\n",
    "labels"
   ]
  },
  {
   "cell_type": "code",
   "execution_count": 109,
   "metadata": {},
   "outputs": [
    {
     "name": "stdout",
     "output_type": "stream",
     "text": [
      "{'cactus': 0, 'no_cactus': 1}\n"
     ]
    }
   ],
   "source": [
    "d = dict()\n",
    "i = 0\n",
    "for label in labels:\n",
    "    if label not in d:\n",
    "        d[label] = i\n",
    "        i += 1\n",
    "print(d)"
   ]
  },
  {
   "cell_type": "markdown",
   "metadata": {},
   "source": [
    "## Training baseline model with 1 color channel"
   ]
  },
  {
   "cell_type": "code",
   "execution_count": 165,
   "metadata": {},
   "outputs": [
    {
     "name": "stdout",
     "output_type": "stream",
     "text": [
      "(3000, 32, 32)\n",
      "(3000,)\n"
     ]
    }
   ],
   "source": [
    "train_img = []\n",
    "y_train = []\n",
    "train_length = 3000 #len(train_path)\n",
    "for i in range(0, train_length):\n",
    "    # defining the image path\n",
    "    if(train_class[i] == \"cactus\"):\n",
    "        image_path = root_path + \"training_set/training_set/cactus/\" + train_path[i]\n",
    "    else:\n",
    "        image_path = root_path + \"training_set/training_set/no_cactus/\" + train_path[i]\n",
    "    # reading the image\n",
    "    img = imread(root_path + image_path, as_gray=True)\n",
    "    # normalizing the pixel values\n",
    "    img /= 255.0\n",
    "    # converting the type of pixel to float 32\n",
    "    img = img.astype('float32')\n",
    "    # appending the image into the list\n",
    "    train_img.append(img)\n",
    "    y_train.append(train_class[i])\n",
    "    \n",
    "# converting the list to numpy array\n",
    "X_train = np.array(train_img)\n",
    "# defining the target\n",
    "X_train.shape\n",
    "y_train = np.array(y_train)\n",
    "for i in range(0, len(y_train)):\n",
    "    y_train[i] = d[y_train[i]]\n",
    "y_train = y_train.astype(int);\n",
    "print(X_train.shape)\n",
    "print(y_train.shape)"
   ]
  },
  {
   "cell_type": "code",
   "execution_count": 166,
   "metadata": {},
   "outputs": [
    {
     "name": "stdout",
     "output_type": "stream",
     "text": [
      "(1000, 32, 32)\n",
      "(1000,)\n"
     ]
    }
   ],
   "source": [
    "test_img = []\n",
    "y_test = []\n",
    "test_length = 1000 #len(test_path)\n",
    "for i in range(0, test_length):\n",
    "    # defining the image path\n",
    "    if(test_class[i] == \"cactus\"):\n",
    "        image_path = root_path + \"validation_set/validation_set/cactus/\" + test_path[i]\n",
    "    else:\n",
    "        image_path = root_path + \"validation_set/validation_set/no_cactus/\" + test_path[i]\n",
    "    # reading the image\n",
    "    img = imread(root_path + image_path, as_gray=True)\n",
    "    # normalizing the pixel values\n",
    "    img /= 255.0\n",
    "    # converting the type of pixel to float 32\n",
    "    img = img.astype('float32')\n",
    "    # appending the image into the list\n",
    "    test_img.append(img)\n",
    "    y_test.append(test_class[i])\n",
    "    \n",
    "# converting the list to numpy array\n",
    "X_test = np.array(test_img)\n",
    "# defining the target\n",
    "X_test.shape\n",
    "y_test = np.array(y_test)\n",
    "for i in range(0, len(y_test)):\n",
    "    y_test[i] = d[y_test[i]]\n",
    "y_test = y_test.astype(int);\n",
    "print(X_test.shape)\n",
    "print(y_test.shape)"
   ]
  },
  {
   "cell_type": "code",
   "execution_count": 167,
   "metadata": {
    "colab": {},
    "colab_type": "code",
    "id": "vc8-vt_WO2qQ"
   },
   "outputs": [
    {
     "name": "stdout",
     "output_type": "stream",
     "text": [
      "(3000, 32, 32, 1)\n",
      "(3000, 2)\n",
      "(1000, 32, 32, 1)\n",
      "(1000, 2)\n",
      "2\n"
     ]
    }
   ],
   "source": [
    "# reshape to be [samples][channels][width][height]\n",
    "X_train = X_train.reshape(X_train.shape[0], 32, 32, 1).astype('float32')\n",
    "X_test = X_test.reshape(X_test.shape[0], 32, 32, 1).astype('float32')\n",
    "\n",
    "# one hot encode outputs\n",
    "y_train = utils.to_categorical(y_train)\n",
    "y_test = utils.to_categorical(y_test)\n",
    "num_classes = y_test.shape[1]\n",
    "\n",
    "print(X_train.shape)\n",
    "print(y_train.shape)\n",
    "print(X_test.shape)\n",
    "print(y_test.shape)\n",
    "print(num_classes)"
   ]
  },
  {
   "cell_type": "code",
   "execution_count": 168,
   "metadata": {},
   "outputs": [],
   "source": [
    "combined = list(zip(X_train, y_train))\n",
    "random.shuffle(combined)\n",
    "\n",
    "X_train[:], y_train[:] = zip(*combined)\n",
    "\n",
    "combined = list(zip(X_test, y_test))\n",
    "random.shuffle(combined)\n",
    "\n",
    "X_test[:], y_test[:] = zip(*combined)"
   ]
  },
  {
   "cell_type": "code",
   "execution_count": 169,
   "metadata": {},
   "outputs": [
    {
     "data": {
      "text/plain": [
       "<matplotlib.image.AxesImage at 0x7fa3e506d910>"
      ]
     },
     "execution_count": 169,
     "metadata": {},
     "output_type": "execute_result"
    },
    {
     "data": {
      "image/png": "[encoded data removed]",
      "text/plain": [
       "<Figure size 432x288 with 1 Axes>"
      ]
     },
     "metadata": {
      "needs_background": "light"
     },
     "output_type": "display_data"
    }
   ],
   "source": [
    "plt.imshow(X_train[0].reshape([32,32]))"
   ]
  },
  {
   "cell_type": "code",
   "execution_count": 170,
   "metadata": {
    "colab": {},
    "colab_type": "code",
    "id": "LodO4nxkO2qV"
   },
   "outputs": [],
   "source": [
    "# define a simple CNN model\n",
    "def build_mnist_CNN():\n",
    "    mnist_model = Sequential()\n",
    "    mnist_model.add(Conv2D(32, (5, 5), input_shape=(32, 32, 1), activation='relu'))\n",
    "    mnist_model.add(MaxPooling2D(pool_size=(2, 2)))\n",
    "    mnist_model.add(Dropout(0.2))\n",
    "    mnist_model.add(Flatten())\n",
    "    mnist_model.add(Dense(128, activation='relu'))\n",
    "    mnist_model.add(Dense(num_classes, activation='softmax'))\n",
    "\n",
    "    # Compile model\n",
    "    mnist_model.compile(loss='categorical_crossentropy', optimizer='adam', metrics=['accuracy'])\n",
    "    return mnist_model"
   ]
  },
  {
   "cell_type": "code",
   "execution_count": 171,
   "metadata": {},
   "outputs": [],
   "source": [
    "mnist_model = build_mnist_CNN()"
   ]
  },
  {
   "cell_type": "code",
   "execution_count": 172,
   "metadata": {
    "colab": {},
    "colab_type": "code",
    "id": "MXvKbAJ7O2qW",
    "outputId": "e197f9bf-d87d-44e8-c54a-e55c4dfc0b7f",
    "scrolled": true
   },
   "outputs": [
    {
     "name": "stdout",
     "output_type": "stream",
     "text": [
      "Epoch 1/10\n",
      "12/12 [==============================] - 1s 84ms/step - loss: 0.3968 - accuracy: 0.9997 - val_loss: 0.0248 - val_accuracy: 1.0000\n",
      "Epoch 2/10\n",
      "12/12 [==============================] - 1s 78ms/step - loss: 0.0045 - accuracy: 1.0000 - val_loss: 3.0953e-05 - val_accuracy: 1.0000\n",
      "Epoch 3/10\n",
      "12/12 [==============================] - 1s 76ms/step - loss: 9.0255e-06 - accuracy: 1.0000 - val_loss: 1.2664e-06 - val_accuracy: 1.0000\n",
      "Epoch 4/10\n",
      "12/12 [==============================] - 1s 77ms/step - loss: 7.2662e-07 - accuracy: 1.0000 - val_loss: 3.9470e-07 - val_accuracy: 1.0000\n",
      "Epoch 5/10\n",
      "12/12 [==============================] - 1s 77ms/step - loss: 3.2504e-07 - accuracy: 1.0000 - val_loss: 2.6321e-07 - val_accuracy: 1.0000\n",
      "Epoch 6/10\n",
      "12/12 [==============================] - 1s 80ms/step - loss: 2.5761e-07 - accuracy: 1.0000 - val_loss: 2.4664e-07 - val_accuracy: 1.0000\n",
      "Epoch 7/10\n",
      "12/12 [==============================] - 1s 82ms/step - loss: 2.3921e-07 - accuracy: 1.0000 - val_loss: 2.4247e-07 - val_accuracy: 1.0000\n",
      "Epoch 8/10\n",
      "12/12 [==============================] - 1s 79ms/step - loss: 2.3580e-07 - accuracy: 1.0000 - val_loss: 2.4045e-07 - val_accuracy: 1.0000\n",
      "Epoch 9/10\n",
      "12/12 [==============================] - 1s 83ms/step - loss: 2.3290e-07 - accuracy: 1.0000 - val_loss: 2.3937e-07 - val_accuracy: 1.0000\n",
      "Epoch 10/10\n",
      "12/12 [==============================] - 1s 82ms/step - loss: 2.3023e-07 - accuracy: 1.0000 - val_loss: 2.3854e-07 - val_accuracy: 1.0000\n",
      "CNN Error: 0.00%\n"
     ]
    }
   ],
   "source": [
    "# Fit the model\n",
    "mnist_model.fit(X_train, y_train, validation_data=(X_test, y_test), epochs=10, batch_size=256)\n",
    "# Final evaluation of the model\n",
    "scores = mnist_model.evaluate(X_test, y_test, verbose=0)\n",
    "print(\"CNN Error: %.2f%%\" % (100-scores[1]*100))"
   ]
  },
  {
   "cell_type": "markdown",
   "metadata": {},
   "source": [
    "> This dataset with 2 classes is simple enough that a shallow CNN can achieve 100% validation accuracy almost immediately."
   ]
  },
  {
   "cell_type": "code",
   "execution_count": null,
   "metadata": {},
   "outputs": [],
   "source": []
  }
 ],
 "metadata": {
  "accelerator": "GPU",
  "colab": {
   "name": "lab4.ipynb",
   "provenance": [],
   "version": "0.3.2"
  },
  "kernelspec": {
   "display_name": "Python 3",
   "language": "python",
   "name": "python3"
  },
  "language_info": {
   "codemirror_mode": {
    "name": "ipython",
    "version": 3
   },
   "file_extension": ".py",
   "mimetype": "text/x-python",
   "name": "python",
   "nbconvert_exporter": "python",
   "pygments_lexer": "ipython3",
   "version": "3.7.4"
  }
 },
 "nbformat": 4,
 "nbformat_minor": 1
}
