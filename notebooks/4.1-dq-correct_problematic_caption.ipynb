{
 "cells": [
  {
   "cell_type": "code",
   "execution_count": 171,
   "metadata": {},
   "outputs": [],
   "source": [
    "import json\n",
    "import random"
   ]
  },
  {
   "cell_type": "code",
   "execution_count": 172,
   "metadata": {},
   "outputs": [],
   "source": [
    "# load train json data\n",
    "name = 'train'\n",
    "with open('../data/processed/json/' + name + '.json', 'r') as jsonFile:\n",
    "    data = json.load(jsonFile)"
   ]
  },
  {
   "cell_type": "code",
   "execution_count": 166,
   "metadata": {},
   "outputs": [
    {
     "name": "stdout",
     "output_type": "stream",
     "text": [
      "The number of problematic caption found is 0\n",
      "{'rsicd_church_235.jpg': [10305, 10309], 'rsicd_bridge_218.jpg': [7110]}\n"
     ]
    }
   ],
   "source": [
    "# create problematic caption dictionary\n",
    "count_err = 0\n",
    "err_cap_dict = {}\n",
    "for file in data.keys():\n",
    "    for caption in data[file]['sentences']:\n",
    "        if len(caption['tokens']) < 2:\n",
    "            if file in err_cap_dict.keys():\n",
    "                err_cap_dict[file].append(caption['sentid'])\n",
    "            else:\n",
    "                err_cap_dict[file] = [caption['sentid']]\n",
    "            \n",
    "print(\"The number of problematic caption found is\", count_err)\n",
    "print(err_cap_dict)"
   ]
  },
  {
   "cell_type": "code",
   "execution_count": 167,
   "metadata": {},
   "outputs": [
    {
     "name": "stdout",
     "output_type": "stream",
     "text": [
      "The original caption:\n",
      "{'tokens': ['1'], 'raw': '1 .', 'imgid': 2061, 'sentid': 10305}\n",
      "The corrected caption:\n",
      "{'tokens': ['on', 'either', 'side', 'of', 'the', 'white', 'church', 'are', 'red', 'buildings'], 'raw': 'on either side of the white church are red buildings .', 'imgid': 2061, 'sentid': 10305} \n",
      "\n",
      "The original caption:\n",
      "{'tokens': ['1'], 'raw': '1 .', 'imgid': 2061, 'sentid': 10309}\n",
      "The corrected caption:\n",
      "{'tokens': ['on', 'either', 'side', 'of', 'the', 'white', 'church', 'are', 'red', 'buildings'], 'raw': 'on either side of the white church are red buildings .', 'imgid': 2061, 'sentid': 10309} \n",
      "\n",
      "The original caption:\n",
      "{'tokens': [], 'raw': '.', 'imgid': 1422, 'sentid': 7110}\n",
      "The corrected caption:\n",
      "{'tokens': ['some', 'green', 'plants', 'are', 'in', 'two', 'sides', 'of', 'a', 'river', 'with', 'a', 'bridge', 'over', 'it', 'and', 'a', 'red', 'boat', 'in', 'it'], 'raw': 'some green plants are in two sides of a river with a bridge over it and a red boat in it .', 'imgid': 1422, 'sentid': 7110} \n",
      "\n"
     ]
    }
   ],
   "source": [
    "# replace the problematic caption with random selected caption from the same image\n",
    "for key, val in err_cap_dict.items():\n",
    "    caption_list = [sentence['sentid'] for sentence in data[key]['sentences'] if sentence['sentid'] not in val]\n",
    "    for sentence in data[key]['sentences']:\n",
    "        if sentence['sentid'] in val:\n",
    "            print(\"The original caption:\")\n",
    "            print(sentence)\n",
    "\n",
    "            sel_caption = random.choice(caption_list)\n",
    "            sel_tokens = [sentence['tokens'] for sentence in data[key]['sentences'] if sentence['sentid'] == sel_caption][0]\n",
    "            sel_raw = [sentence['raw'] for sentence in data[key]['sentences'] if sentence['sentid'] == sel_caption][0]\n",
    "            \n",
    "            sentence['tokens'] = sel_tokens\n",
    "            sentence['raw'] = sel_raw\n",
    "            print(\"The corrected caption:\")\n",
    "            print(sentence, \"\\n\")"
   ]
  },
  {
   "cell_type": "code",
   "execution_count": 170,
   "metadata": {},
   "outputs": [],
   "source": [
    "# save the processed data\n",
    "with open('../data/processed/json/' + name + '.json', 'w') as jsonFile:\n",
    "    json.dump(data, jsonFile)"
   ]
  }
 ],
 "metadata": {
  "kernelspec": {
   "display_name": "Python 3",
   "language": "python",
   "name": "python3"
  },
  "language_info": {
   "codemirror_mode": {
    "name": "ipython",
    "version": 3
   },
   "file_extension": ".py",
   "mimetype": "text/x-python",
   "name": "python",
   "nbconvert_exporter": "python",
   "pygments_lexer": "ipython3",
   "version": "3.7.6"
  }
 },
 "nbformat": 4,
 "nbformat_minor": 4
}
