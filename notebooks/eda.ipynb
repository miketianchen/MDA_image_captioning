{
 "cells": [
  {
   "cell_type": "markdown",
   "metadata": {},
   "source": [
    "# Exploratory data analysis"
   ]
  },
  {
   "cell_type": "markdown",
   "metadata": {},
   "source": [
    "## 1. Dataset description\n"
   ]
  },
  {
   "cell_type": "markdown",
   "metadata": {},
   "source": [
    "## 2. Load the dataset"
   ]
  },
  {
   "cell_type": "code",
   "execution_count": 1,
   "metadata": {},
   "outputs": [],
   "source": [
    "import json\n",
    "# from tqdm import tqdm\n",
    "# import os"
   ]
  },
  {
   "cell_type": "code",
   "execution_count": 2,
   "metadata": {},
   "outputs": [],
   "source": [
    "set_names = ['rsicd', 'ucm', 'sydney']\n",
    "\n",
    "def get_img_info(name):\n",
    "    \"\"\"\n",
    "    Returns img paths and captions\n",
    "\n",
    "    Parameters:\n",
    "    -----------\n",
    "    name: str\n",
    "        the json file name\n",
    "    \n",
    "    Return:\n",
    "    --------\n",
    "    list, list\n",
    "        img paths, corresponding captions\n",
    "    \"\"\"\n",
    "    img_path = []\n",
    "    caption = [] \n",
    "    with open('../data/interim/' + name + '.json', 'r') as json_data:\n",
    "        data = json.load(json_data)\n",
    "        for set_name in set_names:\n",
    "            for filename in data[set_name].keys():\n",
    "                img_path.append('../data/raw/imgs/'+ set_name + '/' + filename)\n",
    "                caption.append([sentence['raw'] for sentence in data[set_name][filename]['sentences']])\n",
    "    \n",
    "    return img_path, caption"
   ]
  },
  {
   "cell_type": "code",
   "execution_count": 3,
   "metadata": {},
   "outputs": [],
   "source": [
    "# get img path and caption list\n",
    "train_img_path, train_caption = get_img_info('train')\n",
    "valid_img_path, valid_caption = get_img_info('valid')"
   ]
  },
  {
   "cell_type": "code",
   "execution_count": 4,
   "metadata": {},
   "outputs": [
    {
     "output_type": "execute_result",
     "data": {
      "text/plain": "['../data/raw/imgs/rsicd/church_212.jpg',\n '../data/raw/imgs/rsicd/church_145.jpg',\n '../data/raw/imgs/rsicd/farmland_12.jpg',\n '../data/raw/imgs/rsicd/beach_161.jpg',\n '../data/raw/imgs/rsicd/sparseresidential_227.jpg',\n '../data/raw/imgs/rsicd/pond_60.jpg',\n '../data/raw/imgs/rsicd/denseresidential_31.jpg',\n '../data/raw/imgs/rsicd/00072.jpg',\n '../data/raw/imgs/rsicd/industrial_202.jpg',\n '../data/raw/imgs/rsicd/bareland_43.jpg']"
     },
     "metadata": {},
     "execution_count": 4
    }
   ],
   "source": [
    "train_img_path[:10]"
   ]
  },
  {
   "cell_type": "code",
   "execution_count": 5,
   "metadata": {},
   "outputs": [
    {
     "output_type": "execute_result",
     "data": {
      "text/plain": "[['some buildings and many green trees are around a gray church .',\n  'some buildings and many green trees are around a gray church .',\n  'some buildings and many green trees are around a gray church .',\n  'some buildings and many green trees are around a gray church .',\n  'some buildings and many green trees are around a gray church .'],\n ['a church is near a river with some buildings and green trees .',\n  'a church is near a river with some buildings and green trees .',\n  'a church is near a river with some buildings and green trees .',\n  'a church is near a river with some buildings and green trees .',\n  'a church is near a river with some buildings and green trees .'],\n ['several pieces of farmland s are together .',\n  'the textures in the farmland are very beautiful .',\n  'the textures in the farmland are very beautiful .',\n  'several pieces of farmland s are together .',\n  'several pieces of farmland s are together .'],\n ['two rows of waves in green ocean are near a yellow beach .',\n  'two rows of waves in green ocean are near a yellow beach .',\n  'two rows of waves in green ocean are near a yellow beach .',\n  'two rows of waves in green ocean are near a yellow beach .',\n  'two rows of waves in green ocean are near a yellow beach .'],\n ['a building with a swimming pool is surrounded by some green trees and meadows .',\n  'a building with a swimming pool is surrounded by some green trees and meadows .',\n  'a building with a swimming pool is surrounded by some green trees and meadows .',\n  'a building with a swimming pool is surrounded by some green trees and meadows .',\n  'a building with a swimming pool is surrounded by some green trees and meadows .'],\n ['there is a pond with green water surrounded by trees and some houses .',\n  'here is a rounded triangle lake with roads trees and houses built along.',\n  'here is a rounded triangle lake with roads trees and houses built along.',\n  'rows of houses and roads surrounds this green triangular pond .',\n  'an almost triangular green pond is surrounded by many green trees and some gray buildings .'],\n ['many buildings and green trees are in a dense residential area .',\n  'many buildings and green trees are in a dense residential area .',\n  'many buildings and green trees are in a dense residential area .',\n  'many buildings and green trees are in a dense residential area .',\n  'many buildings and green trees are in a dense residential area .'],\n ['a football field is wreathed by dense woods and houses decorated with red roofs .',\n  'a football field and many red house and green trees beside .',\n  'a piece of red buildings with green plants is next to a playground with two basketball fields next to it .',\n  'a playground semi surrounded by many buildings is next to many red long buildings and green trees.',\n  'a large playground with two basketball fields next to it is semi-surrounded by red houses .'],\n ['many buildings and green trees are in an industrial area .',\n  'many buildings and green trees are in an industrial area .',\n  'many buildings and green trees are in an industrial area .',\n  'many buildings and green trees are in an industrial area .',\n  'many buildings and green trees are in an industrial area .'],\n ['the grey green land has many gullies .',\n  'there are green stripes in the yellow ground .',\n  'there are green stripes in the yellow ground .',\n  'this bare land is messily striped with ruttings.',\n  'it is a piece of gray green bare land.']]"
     },
     "metadata": {},
     "execution_count": 5
    }
   ],
   "source": [
    "train_caption[:10]"
   ]
  },
  {
   "cell_type": "markdown",
   "metadata": {},
   "source": [
    "## 3. Explore the dataset"
   ]
  },
  {
   "cell_type": "markdown",
   "metadata": {},
   "source": [
    "## 4. Initial thoughts\n"
   ]
  },
  {
   "cell_type": "markdown",
   "metadata": {},
   "source": [
    "## 5. Wrangling"
   ]
  },
  {
   "cell_type": "markdown",
   "metadata": {},
   "source": [
    "## 6. Research questions\n",
    "\n"
   ]
  },
  {
   "cell_type": "markdown",
   "metadata": {},
   "source": [
    "## 7. Data Analysis & Visualizations"
   ]
  },
  {
   "cell_type": "markdown",
   "metadata": {},
   "source": [
    "## 8. Summary and conclusions\n"
   ]
  },
  {
   "cell_type": "code",
   "execution_count": null,
   "metadata": {},
   "outputs": [],
   "source": []
  }
 ],
 "metadata": {
  "kernelspec": {
   "display_name": "Python 3",
   "language": "python",
   "name": "python3"
  },
  "language_info": {
   "codemirror_mode": {
    "name": "ipython",
    "version": 3
   },
   "file_extension": ".py",
   "mimetype": "text/x-python",
   "name": "python",
   "nbconvert_exporter": "python",
   "pygments_lexer": "ipython3",
   "version": "3.7.6-final"
  }
 },
 "nbformat": 4,
 "nbformat_minor": 4
}