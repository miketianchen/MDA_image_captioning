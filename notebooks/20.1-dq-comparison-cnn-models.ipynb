{
 "cells": [
  {
   "cell_type": "markdown",
   "metadata": {},
   "source": [
    "## Comparison of different CNN pre-trained models\n",
    "\n",
    "- The results are based on 9.1.2 baseline model\n",
    "- The same seed 123 is used for these models"
   ]
  },
  {
   "cell_type": "code",
   "execution_count": 10,
   "metadata": {},
   "outputs": [],
   "source": [
    "import json\n",
    "import pandas as pd"
   ]
  },
  {
   "cell_type": "code",
   "execution_count": 19,
   "metadata": {},
   "outputs": [],
   "source": [
    "model_list = ['inc', 'vgg16','vgg19', 'vgg19_v2', 'alexnet', 'googlenet']\n",
    "    \n",
    "# load scores\n",
    "results_path = '../models/cnn_results'\n",
    "score_list = []\n",
    "for i in model_list:\n",
    "    with open(results_path + '/' + i + '_score.json', 'r') as f:\n",
    "        score_list.append(json.load(f))"
   ]
  },
  {
   "cell_type": "code",
   "execution_count": 20,
   "metadata": {},
   "outputs": [
    {
     "data": {
      "text/html": [
       "<div>\n",
       "<style scoped>\n",
       "    .dataframe tbody tr th:only-of-type {\n",
       "        vertical-align: middle;\n",
       "    }\n",
       "\n",
       "    .dataframe tbody tr th {\n",
       "        vertical-align: top;\n",
       "    }\n",
       "\n",
       "    .dataframe thead th {\n",
       "        text-align: right;\n",
       "    }\n",
       "</style>\n",
       "<table border=\"1\" class=\"dataframe\">\n",
       "  <thead>\n",
       "    <tr style=\"text-align: right;\">\n",
       "      <th></th>\n",
       "      <th>Bleu_1</th>\n",
       "      <th>Bleu_2</th>\n",
       "      <th>Bleu_3</th>\n",
       "      <th>Bleu_4</th>\n",
       "      <th>METEOR</th>\n",
       "      <th>ROUGE_L</th>\n",
       "      <th>CIDEr</th>\n",
       "      <th>SPICE</th>\n",
       "      <th>USC_similarity</th>\n",
       "    </tr>\n",
       "  </thead>\n",
       "  <tbody>\n",
       "    <tr>\n",
       "      <th>inc</th>\n",
       "      <td>0.562602</td>\n",
       "      <td>0.427687</td>\n",
       "      <td>0.346124</td>\n",
       "      <td>0.289424</td>\n",
       "      <td>0.259210</td>\n",
       "      <td>0.480531</td>\n",
       "      <td>1.571132</td>\n",
       "      <td>0.325353</td>\n",
       "      <td>0.551556</td>\n",
       "    </tr>\n",
       "    <tr>\n",
       "      <th>vgg16</th>\n",
       "      <td>0.592419</td>\n",
       "      <td>0.459664</td>\n",
       "      <td>0.376539</td>\n",
       "      <td>0.319151</td>\n",
       "      <td>0.265912</td>\n",
       "      <td>0.492961</td>\n",
       "      <td>1.704361</td>\n",
       "      <td>0.342842</td>\n",
       "      <td>0.566758</td>\n",
       "    </tr>\n",
       "    <tr>\n",
       "      <th>vgg19</th>\n",
       "      <td>0.277058</td>\n",
       "      <td>0.124190</td>\n",
       "      <td>0.067149</td>\n",
       "      <td>0.036046</td>\n",
       "      <td>0.078368</td>\n",
       "      <td>0.201860</td>\n",
       "      <td>0.141231</td>\n",
       "      <td>0.040565</td>\n",
       "      <td>0.272441</td>\n",
       "    </tr>\n",
       "    <tr>\n",
       "      <th>vgg19_v2</th>\n",
       "      <td>0.541011</td>\n",
       "      <td>0.396395</td>\n",
       "      <td>0.307802</td>\n",
       "      <td>0.244717</td>\n",
       "      <td>0.235171</td>\n",
       "      <td>0.459750</td>\n",
       "      <td>1.260630</td>\n",
       "      <td>0.301619</td>\n",
       "      <td>0.531162</td>\n",
       "    </tr>\n",
       "    <tr>\n",
       "      <th>alexnet</th>\n",
       "      <td>0.579013</td>\n",
       "      <td>0.445349</td>\n",
       "      <td>0.361102</td>\n",
       "      <td>0.302438</td>\n",
       "      <td>0.259967</td>\n",
       "      <td>0.481277</td>\n",
       "      <td>1.633977</td>\n",
       "      <td>0.330083</td>\n",
       "      <td>0.562791</td>\n",
       "    </tr>\n",
       "    <tr>\n",
       "      <th>googlenet</th>\n",
       "      <td>0.501284</td>\n",
       "      <td>0.349630</td>\n",
       "      <td>0.266605</td>\n",
       "      <td>0.211807</td>\n",
       "      <td>0.204510</td>\n",
       "      <td>0.400296</td>\n",
       "      <td>0.954525</td>\n",
       "      <td>0.247600</td>\n",
       "      <td>0.467754</td>\n",
       "    </tr>\n",
       "  </tbody>\n",
       "</table>\n",
       "</div>"
      ],
      "text/plain": [
       "             Bleu_1    Bleu_2    Bleu_3    Bleu_4    METEOR   ROUGE_L  \\\n",
       "inc        0.562602  0.427687  0.346124  0.289424  0.259210  0.480531   \n",
       "vgg16      0.592419  0.459664  0.376539  0.319151  0.265912  0.492961   \n",
       "vgg19      0.277058  0.124190  0.067149  0.036046  0.078368  0.201860   \n",
       "vgg19_v2   0.541011  0.396395  0.307802  0.244717  0.235171  0.459750   \n",
       "alexnet    0.579013  0.445349  0.361102  0.302438  0.259967  0.481277   \n",
       "googlenet  0.501284  0.349630  0.266605  0.211807  0.204510  0.400296   \n",
       "\n",
       "              CIDEr     SPICE  USC_similarity  \n",
       "inc        1.571132  0.325353        0.551556  \n",
       "vgg16      1.704361  0.342842        0.566758  \n",
       "vgg19      0.141231  0.040565        0.272441  \n",
       "vgg19_v2   1.260630  0.301619        0.531162  \n",
       "alexnet    1.633977  0.330083        0.562791  \n",
       "googlenet  0.954525  0.247600        0.467754  "
      ]
     },
     "execution_count": 20,
     "metadata": {},
     "output_type": "execute_result"
    }
   ],
   "source": [
    "pd.DataFrame(score_list, index = model_list)"
   ]
  },
  {
   "cell_type": "markdown",
   "metadata": {},
   "source": [
    "> It seems like VGG16 is the best among all the choices. Note the results are just based on one time test."
   ]
  },
  {
   "cell_type": "markdown",
   "metadata": {},
   "source": [
    "## Description of layers\n",
    "1. **inc**: \n",
    "    - the last 1 layer `fc` is removed and turn off auxiliary output\n",
    "2. **vgg16**:\n",
    "    - the last 2 layers of classcifier is removed.\n",
    "3. **vgg19**\n",
    "    - the last 2 layers of classcifier is removed.\n",
    "4. **vgg19_v2**:\n",
    "    - the last 6 layers of classcifier is removed.\n",
    "5. **alexnet**:\n",
    "    - the last 1 layers of classcifier is removed.\n",
    "6. **googlenet**:\n",
    "    - the last 1 layer `fc` is removed and turn off auxiliary output"
   ]
  }
 ],
 "metadata": {
  "kernelspec": {
   "display_name": "Python 3",
   "language": "python",
   "name": "python3"
  },
  "language_info": {
   "codemirror_mode": {
    "name": "ipython",
    "version": 3
   },
   "file_extension": ".py",
   "mimetype": "text/x-python",
   "name": "python",
   "nbconvert_exporter": "python",
   "pygments_lexer": "ipython3",
   "version": "3.7.6"
  }
 },
 "nbformat": 4,
 "nbformat_minor": 4
}
