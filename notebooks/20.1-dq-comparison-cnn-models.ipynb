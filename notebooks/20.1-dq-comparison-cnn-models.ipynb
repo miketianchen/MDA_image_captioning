{
 "cells": [
  {
   "cell_type": "markdown",
   "metadata": {},
   "source": [
    "## Comparison of different CNN pre-trained models\n",
    "\n",
    "- The results are based on 9.1.1 baseline model\n",
    "- The same seed 123 is used for these models"
   ]
  },
  {
   "cell_type": "code",
   "execution_count": 1,
   "metadata": {},
   "outputs": [],
   "source": [
    "import json\n",
    "import pandas as pd"
   ]
  },
  {
   "cell_type": "code",
   "execution_count": 3,
   "metadata": {},
   "outputs": [],
   "source": [
    "model_list = ['inc', 'vgg16','vgg19', 'alexnet', 'googlenet']\n",
    "    \n",
    "# load scores\n",
    "results_path = '../models/cnn_results'\n",
    "score_list = []\n",
    "for i in model_list:\n",
    "    with open(results_path + '/score_911_' + i + '.json', 'r') as f:\n",
    "        score_list.append(json.load(f))"
   ]
  },
  {
   "cell_type": "code",
   "execution_count": 4,
   "metadata": {},
   "outputs": [
    {
     "data": {
      "text/html": [
       "<div>\n",
       "<style scoped>\n",
       "    .dataframe tbody tr th:only-of-type {\n",
       "        vertical-align: middle;\n",
       "    }\n",
       "\n",
       "    .dataframe tbody tr th {\n",
       "        vertical-align: top;\n",
       "    }\n",
       "\n",
       "    .dataframe thead th {\n",
       "        text-align: right;\n",
       "    }\n",
       "</style>\n",
       "<table border=\"1\" class=\"dataframe\">\n",
       "  <thead>\n",
       "    <tr style=\"text-align: right;\">\n",
       "      <th></th>\n",
       "      <th>Bleu_1</th>\n",
       "      <th>Bleu_2</th>\n",
       "      <th>Bleu_3</th>\n",
       "      <th>Bleu_4</th>\n",
       "      <th>METEOR</th>\n",
       "      <th>ROUGE_L</th>\n",
       "      <th>CIDEr</th>\n",
       "      <th>SPICE</th>\n",
       "      <th>USC_similarity</th>\n",
       "    </tr>\n",
       "  </thead>\n",
       "  <tbody>\n",
       "    <tr>\n",
       "      <th>inc</th>\n",
       "      <td>0.611067</td>\n",
       "      <td>0.482076</td>\n",
       "      <td>0.400218</td>\n",
       "      <td>0.341686</td>\n",
       "      <td>0.278640</td>\n",
       "      <td>0.519659</td>\n",
       "      <td>1.915158</td>\n",
       "      <td>0.363261</td>\n",
       "      <td>0.582688</td>\n",
       "    </tr>\n",
       "    <tr>\n",
       "      <th>vgg16</th>\n",
       "      <td>0.651438</td>\n",
       "      <td>0.532721</td>\n",
       "      <td>0.452217</td>\n",
       "      <td>0.392981</td>\n",
       "      <td>0.308063</td>\n",
       "      <td>0.560509</td>\n",
       "      <td>2.226512</td>\n",
       "      <td>0.401847</td>\n",
       "      <td>0.618032</td>\n",
       "    </tr>\n",
       "    <tr>\n",
       "      <th>vgg19</th>\n",
       "      <td>0.603918</td>\n",
       "      <td>0.468438</td>\n",
       "      <td>0.384167</td>\n",
       "      <td>0.324929</td>\n",
       "      <td>0.265663</td>\n",
       "      <td>0.505412</td>\n",
       "      <td>1.696008</td>\n",
       "      <td>0.347224</td>\n",
       "      <td>0.567340</td>\n",
       "    </tr>\n",
       "    <tr>\n",
       "      <th>alexnet</th>\n",
       "      <td>0.651536</td>\n",
       "      <td>0.531815</td>\n",
       "      <td>0.451787</td>\n",
       "      <td>0.393246</td>\n",
       "      <td>0.305661</td>\n",
       "      <td>0.560777</td>\n",
       "      <td>2.264054</td>\n",
       "      <td>0.397289</td>\n",
       "      <td>0.615596</td>\n",
       "    </tr>\n",
       "    <tr>\n",
       "      <th>googlenet</th>\n",
       "      <td>0.509000</td>\n",
       "      <td>0.356386</td>\n",
       "      <td>0.271551</td>\n",
       "      <td>0.216547</td>\n",
       "      <td>0.215475</td>\n",
       "      <td>0.410664</td>\n",
       "      <td>1.045342</td>\n",
       "      <td>0.257725</td>\n",
       "      <td>0.473735</td>\n",
       "    </tr>\n",
       "  </tbody>\n",
       "</table>\n",
       "</div>"
      ],
      "text/plain": [
       "             Bleu_1    Bleu_2    Bleu_3    Bleu_4    METEOR   ROUGE_L  \\\n",
       "inc        0.611067  0.482076  0.400218  0.341686  0.278640  0.519659   \n",
       "vgg16      0.651438  0.532721  0.452217  0.392981  0.308063  0.560509   \n",
       "vgg19      0.603918  0.468438  0.384167  0.324929  0.265663  0.505412   \n",
       "alexnet    0.651536  0.531815  0.451787  0.393246  0.305661  0.560777   \n",
       "googlenet  0.509000  0.356386  0.271551  0.216547  0.215475  0.410664   \n",
       "\n",
       "              CIDEr     SPICE  USC_similarity  \n",
       "inc        1.915158  0.363261        0.582688  \n",
       "vgg16      2.226512  0.401847        0.618032  \n",
       "vgg19      1.696008  0.347224        0.567340  \n",
       "alexnet    2.264054  0.397289        0.615596  \n",
       "googlenet  1.045342  0.257725        0.473735  "
      ]
     },
     "execution_count": 4,
     "metadata": {},
     "output_type": "execute_result"
    }
   ],
   "source": [
    "pd.DataFrame(score_list, index = model_list)"
   ]
  },
  {
   "cell_type": "markdown",
   "metadata": {},
   "source": [
    "> It seems like both vgg16 and alexnet performs better than other models. \n",
    ">\n",
    "> Vgg16 has slightly higher semantic scores (i.e. SPICE and USC similarity) while alexnet has slightly higher score for n-gram based metrics.\n",
    ">\n",
    ">Note the results are just based on one time test without cross validation."
   ]
  },
  {
   "cell_type": "markdown",
   "metadata": {},
   "source": [
    "## Description of layers\n",
    "1. **inc**: \n",
    "    - the last 1 layer `fc` is removed and turn off auxiliary output\n",
    "2. **vgg16**:\n",
    "    - the last 2 layers of classcifier is removed.\n",
    "3. **vgg19**\n",
    "    - the last 2 layers of classcifier is removed.\n",
    "4. **vgg19_v2**:\n",
    "    - the last 6 layers of classcifier is removed.\n",
    "5. **alexnet**:\n",
    "    - the last 1 layers of classcifier is removed.\n",
    "6. **googlenet**:\n",
    "    - the last 1 layer `fc` is removed and turn off auxiliary output"
   ]
  }
 ],
 "metadata": {
  "kernelspec": {
   "display_name": "Python 3",
   "language": "python",
   "name": "python3"
  },
  "language_info": {
   "codemirror_mode": {
    "name": "ipython",
    "version": 3
   },
   "file_extension": ".py",
   "mimetype": "text/x-python",
   "name": "python",
   "nbconvert_exporter": "python",
   "pygments_lexer": "ipython3",
   "version": "3.7.6"
  }
 },
 "nbformat": 4,
 "nbformat_minor": 4
}
