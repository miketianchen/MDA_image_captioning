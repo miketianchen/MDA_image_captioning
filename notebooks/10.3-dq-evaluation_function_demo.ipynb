{
 "cells": [
  {
   "cell_type": "markdown",
   "metadata": {},
   "source": [
    "## This notebook demonstrates how to use the `eval_model` function to compute the score"
   ]
  },
  {
   "cell_type": "markdown",
   "metadata": {},
   "source": [
    "### 1. Import library and function"
   ]
  },
  {
   "cell_type": "code",
   "execution_count": 1,
   "metadata": {},
   "outputs": [],
   "source": [
    "import json\n",
    "import sys\n",
    "sys.path.append('../scr/evaluation/')\n",
    "from eval_model import eval_model"
   ]
  },
  {
   "cell_type": "markdown",
   "metadata": {},
   "source": [
    "## 2. The input data can be read from the json data using the code below"
   ]
  },
  {
   "cell_type": "code",
   "execution_count": 2,
   "metadata": {},
   "outputs": [],
   "source": [
    "# reference captions\n",
    "ref_path = '../data/processed/json/'\n",
    "with open(ref_path + 'valid.json', 'r') as jsonFile:\n",
    "    data = json.load(jsonFile)\n",
    "    \n",
    "# generated captions\n",
    "results_path = '../models'\n",
    "with open(results_path + '/' + 'test_results.json', 'r') as f:\n",
    "    results = json.load(f)"
   ]
  },
  {
   "cell_type": "markdown",
   "metadata": {},
   "source": [
    "## 3. Using the function"
   ]
  },
  {
   "cell_type": "markdown",
   "metadata": {},
   "source": [
    "Note: \n",
    "1. When you first run this `eval_model` function, it will take longer because the stanford nlp library will be downloaded under spice/lib folder. \n",
    "2. The function will have 3 outputs:\n",
    "    - `model_score`: this is the overall average score for the model\n",
    "    - `img_score`: this is the individual model score for each image\n",
    "    - `score_by_metrics`: this is the score by metric type\n",
    "3. The universal sentence encoder similarity takes around 5 mins on my laptop. You can comment this scorer out in the eval_model.py if you want to results faster "
   ]
  },
  {
   "cell_type": "code",
   "execution_count": 3,
   "metadata": {},
   "outputs": [
    {
     "name": "stdout",
     "output_type": "stream",
     "text": [
      "tokenization...\n",
      "computing Bleu score...\n",
      "computing METEOR score...\n",
      "computing Rouge score...\n",
      "computing CIDEr score...\n",
      "computing SPICE score...\n",
      "computing Universal_Sentence_Encoder_Similarity score...\n"
     ]
    }
   ],
   "source": [
    "model_score, img_score, score_by_metrics = eval_model(data, results)"
   ]
  },
  {
   "cell_type": "code",
   "execution_count": 4,
   "metadata": {},
   "outputs": [
    {
     "data": {
      "text/plain": [
       "{'Bleu_1': 0.6284612525552579,\n",
       " 'Bleu_2': 0.5018337339939812,\n",
       " 'Bleu_3': 0.42079461175367683,\n",
       " 'Bleu_4': 0.3625435060751497,\n",
       " 'METEOR': 0.28975868597774934,\n",
       " 'ROUGE_L': 0.535356646079018,\n",
       " 'CIDEr': 2.050210575685976,\n",
       " 'SPICE': 0.37917554920476026,\n",
       " 'USC_similarity': 0.5983279861550914}"
      ]
     },
     "execution_count": 4,
     "metadata": {},
     "output_type": "execute_result"
    }
   ],
   "source": [
    "#1. get the overll score\n",
    "model_score"
   ]
  },
  {
   "cell_type": "code",
   "execution_count": 5,
   "metadata": {},
   "outputs": [
    {
     "data": {
      "text/plain": [
       "{'Bleu_1': 0.7999999999200001,\n",
       " 'Bleu_2': 0.7302967432631348,\n",
       " 'Bleu_3': 0.5848035475770537,\n",
       " 'Bleu_4': 0.4111336168512899,\n",
       " 'METEOR': 0.2860106620879932,\n",
       " 'ROUGE_L': 0.44309927360774815,\n",
       " 'CIDEr': 0.6799081867672438,\n",
       " 'SPICE': 0.4,\n",
       " 'USC_similarity': 0.5753564357757568}"
      ]
     },
     "execution_count": 5,
     "metadata": {},
     "output_type": "execute_result"
    }
   ],
   "source": [
    "#2. get individual score for any image\n",
    "img_score['rsicd_park_3.jpg']"
   ]
  },
  {
   "cell_type": "markdown",
   "metadata": {},
   "source": [
    "### 4. Save the results\n",
    "I did not include the saving part in the eval_model.py.\n",
    "\n",
    "You can use the following code to save the results"
   ]
  },
  {
   "cell_type": "code",
   "execution_count": 6,
   "metadata": {},
   "outputs": [],
   "source": [
    "# save the evaluation results into json data\n",
    "save_path = '../models/'\n",
    "with open(save_path + 'baseline_score.json', 'w') as fp:\n",
    "    json.dump(model_score, fp)\n",
    "    \n",
    "with open(save_path + 'baseline_img_score.json', 'w') as fp1:\n",
    "    json.dump(img_score, fp1)"
   ]
  },
  {
   "cell_type": "code",
   "execution_count": null,
   "metadata": {},
   "outputs": [],
   "source": []
  }
 ],
 "metadata": {
  "kernelspec": {
   "display_name": "Python 3",
   "language": "python",
   "name": "python3"
  },
  "language_info": {
   "codemirror_mode": {
    "name": "ipython",
    "version": 3
   },
   "file_extension": ".py",
   "mimetype": "text/x-python",
   "name": "python",
   "nbconvert_exporter": "python",
   "pygments_lexer": "ipython3",
   "version": "3.7.6"
  }
 },
 "nbformat": 4,
 "nbformat_minor": 4
}
