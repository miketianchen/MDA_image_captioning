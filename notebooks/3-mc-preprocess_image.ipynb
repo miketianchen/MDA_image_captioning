{
 "cells": [
  {
   "cell_type": "code",
   "execution_count": 166,
   "metadata": {},
   "outputs": [],
   "source": [
    "import os\n",
    "from PIL import Image\n",
    "from pathlib import Path"
   ]
  },
  {
   "cell_type": "code",
   "execution_count": 167,
   "metadata": {},
   "outputs": [],
   "source": [
    "from os import walk\n",
    "PATH = \"../data/raw\" "
   ]
  },
  {
   "cell_type": "code",
   "execution_count": 168,
   "metadata": {},
   "outputs": [
    {
     "data": {
      "text/plain": [
       "'../data/raw'"
      ]
     },
     "execution_count": 168,
     "metadata": {},
     "output_type": "execute_result"
    }
   ],
   "source": [
    "PATH"
   ]
  },
  {
   "cell_type": "code",
   "execution_count": 169,
   "metadata": {},
   "outputs": [],
   "source": [
    "def process_all_folders_in_directory(raw_dataset_path, output_format = '.jpg', size = (299, 299)):\n",
    "    folders = []\n",
    "    for (dirpath, dirnames, filenames) in walk(raw_dataset_path):\n",
    "        folders.extend(dirnames)\n",
    "        break\n",
    "    \n",
    "    # 'data' directory path (one upstream of directory_path)\n",
    "    data_directory = str(Path(raw_dataset_path).parents[0])\n",
    "    \n",
    "    for folder in folders:\n",
    "        dataset_name = folder.split('_')[1]\n",
    "        directory_path = raw_dataset_path + \"/\" + folder\n",
    "        preprocess(dataset_name, directory_path, output_format, size)"
   ]
  },
  {
   "cell_type": "code",
   "execution_count": 170,
   "metadata": {},
   "outputs": [],
   "source": [
    "process_all_folders_in_directory(PATH)"
   ]
  },
  {
   "cell_type": "code",
   "execution_count": 164,
   "metadata": {},
   "outputs": [],
   "source": [
    "def preprocess(dataset_name, directory_path, output_format = '.jpg', size = (299, 299)):\n",
    "    '''\n",
    "    Preprocess all the images in a folder. By converting the image\n",
    "    format to the desired format and resizing the image to the \n",
    "    desired size\n",
    "    \n",
    "    Parameters:\n",
    "    ------------\n",
    "    dataset_name : str\n",
    "        This name will be appeneded to every image name as well as\n",
    "        used for the name of directory which will house the images\n",
    "    directory_path : str\n",
    "        Absolute path, where the directory containing all the images\n",
    "        are at. Don't know if relative path works...\n",
    "    output_format : str\n",
    "        output format you want example (.jpg, .png, .tif) \n",
    "        INCLUDE THE PERIOD before the type\n",
    "    size : tuple of int (WIDTH, HEIGHT)\n",
    "        size of the image to be converted \n",
    "    \n",
    "    Return:\n",
    "    --------\n",
    "    nothing explict, but it'll create a folder in the same directory\n",
    "    as the image folder you wanted to preprocess, with all the pre-\n",
    "    processed images inside\n",
    "    '''\n",
    "    ## Get the base path to the data folder which contains everything..\n",
    "    #base_path = str(Path(SYDNEY_PATH).parents[1])\n",
    "    \n",
    "    base_path = str(Path(directory_path).parents[1])\n",
    "    \n",
    "    # The path for the processed directory, houses all the processed images\n",
    "    processed_path = base_path + \"/processed/\"\n",
    "    \n",
    "    ###!!!!!! MAKE SURE YOU DON'T HAVE `preprocessed_rsicd`, `preprocessed_ucm` and `preprocessed_sydney` \n",
    "    ###!!!!!! in the ./preprocessed/ directory. This function will make them for you. !!!!!!!!!!!!!!!!!!!\n",
    "    # Make new directory to house the preprocessed images \n",
    "    os.mkdir(processed_path + \"preprocessed_\" + dataset_name)\n",
    "\n",
    "    for filename in os.listdir(directory_path):\n",
    "        # debugging purposes \n",
    "        #print(filename)\n",
    "        \n",
    "\n",
    "        \n",
    "        # convert everything in the folder that's not the \n",
    "        # desired output_format\n",
    "        if not filename.endswith(output_format):\n",
    "            # To get rid of the current suffix tag representing\n",
    "            # current type of image file\n",
    "            name = filename[:-4]\n",
    "            name = dataset_name + \"_\" + name + output_format\n",
    "            \n",
    "            # PILLOW library functions \n",
    "            im = Image.open(directory_path + \"/\" + filename).resize(size, Image.ANTIALIAS)\n",
    "            rgb_im = im.convert('RGB')\n",
    "\n",
    "            output_path =  processed_path + \"preprocessed_\" + dataset_name + \"/\" + name\n",
    "\n",
    "            # Pillow Format Type (JPEG, PNG, TIFF)\n",
    "            if output_format == '.jpg':\n",
    "                pillow_format = 'JPEG'\n",
    "            elif output_format == '.png':\n",
    "                pillow_format = 'PNG'\n",
    "            elif output_format == '.tif':\n",
    "                pillow_format = 'TIFF'\n",
    "            else:\n",
    "                print(\"should make a throw statement, and some try catch\")\n",
    "\n",
    "            # Save with Image Quality of 95% \n",
    "            rgb_im.save(output_path, pillow_format, quality = 95)\n",
    "\n",
    "            continue\n",
    "\n",
    "            # when the image format type is the same, and we just need to resize \n",
    "        elif filename.endswith(output_format):\n",
    "            im = Image.open(directory_path + \"/\" + filename)\n",
    "            im = im.resize(size, Image.ANTIALIAS)\n",
    "            name = dataset_name + \"_\" + filename\n",
    "            output_path = processed_path + \"preprocessed_\" + dataset_name + \"/\" + name\n",
    "            im.save(output_path, quality = 95)\n",
    "            continue\n",
    "        else:\n",
    "            continue "
   ]
  },
  {
   "cell_type": "code",
   "execution_count": null,
   "metadata": {},
   "outputs": [],
   "source": []
  }
 ],
 "metadata": {
  "kernelspec": {
   "display_name": "Python 3",
   "language": "python",
   "name": "python3"
  },
  "language_info": {
   "codemirror_mode": {
    "name": "ipython",
    "version": 3
   },
   "file_extension": ".py",
   "mimetype": "text/x-python",
   "name": "python",
   "nbconvert_exporter": "python",
   "pygments_lexer": "ipython3",
   "version": "3.7.6"
  }
 },
 "nbformat": 4,
 "nbformat_minor": 4
}
