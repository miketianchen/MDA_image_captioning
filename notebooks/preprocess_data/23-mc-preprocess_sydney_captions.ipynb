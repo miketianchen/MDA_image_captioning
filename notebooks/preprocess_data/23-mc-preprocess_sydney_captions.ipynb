{
 "cells": [
  {
   "cell_type": "code",
   "execution_count": 1,
   "metadata": {},
   "outputs": [],
   "source": [
    "import json\n"
   ]
  },
  {
   "cell_type": "code",
   "execution_count": 2,
   "metadata": {},
   "outputs": [
    {
     "name": "stdout",
     "output_type": "stream",
     "text": [
      "There are 613 images in the sydney dataset.\n"
     ]
    }
   ],
   "source": [
    "json_data = {}\n",
    "sizes = {}\n",
    "#set_name = ['rsicd', 'ucm', 'sydney']\n",
    "set_name = ['sydney']\n",
    "\n",
    "# read in json files from all three datasets\n",
    "for name in set_name:\n",
    "    with open('../data/raw/dataset_' + name + '_modified.json', 'r') as data:\n",
    "        json_data[name] = json.load(data)\n",
    "        sizes[name] = len(json_data[name]['images'])\n",
    "        print(f'There are {sizes[name]} images in the {name} dataset.')"
   ]
  },
  {
   "cell_type": "code",
   "execution_count": 3,
   "metadata": {},
   "outputs": [
    {
     "name": "stdout",
     "output_type": "stream",
     "text": [
      "There are 613 images in the sydney dataset.\n"
     ]
    }
   ],
   "source": [
    "sydney_data = {}\n",
    "\n",
    "for name in set_name:\n",
    "    for single_image in json_data[name]['images']:\n",
    "        new_filename = name + '_' + single_image['filename'][:-3] + 'jpg'\n",
    "        if (name == 'sydney'):\n",
    "            sydney_data[new_filename] = single_image\n",
    "            sydney_data[new_filename]['old_dataset_name'] = 'dataset_sydney_modified'\n",
    "        else: \n",
    "            print(\"uh-oh\") #should add try catch later\n",
    "            \n",
    "print(f'There are {len(sydney_data)} images in the sydney dataset.')"
   ]
  },
  {
   "cell_type": "code",
   "execution_count": 8,
   "metadata": {},
   "outputs": [],
   "source": [
    "with open('../data/processed/' + 'sydney' + '.json', 'w') as file:\n",
    "    json.dump(sydney_data, file)"
   ]
  },
  {
   "cell_type": "code",
   "execution_count": 5,
   "metadata": {},
   "outputs": [],
   "source": [
    "#sydney_data"
   ]
  },
  {
   "cell_type": "code",
   "execution_count": null,
   "metadata": {},
   "outputs": [],
   "source": []
  },
  {
   "cell_type": "code",
   "execution_count": null,
   "metadata": {},
   "outputs": [],
   "source": []
  },
  {
   "cell_type": "code",
   "execution_count": null,
   "metadata": {},
   "outputs": [],
   "source": []
  }
 ],
 "metadata": {
  "kernelspec": {
   "display_name": "Python 3",
   "language": "python",
   "name": "python3"
  },
  "language_info": {
   "codemirror_mode": {
    "name": "ipython",
    "version": 3
   },
   "file_extension": ".py",
   "mimetype": "text/x-python",
   "name": "python",
   "nbconvert_exporter": "python",
   "pygments_lexer": "ipython3",
   "version": "3.7.6"
  }
 },
 "nbformat": 4,
 "nbformat_minor": 4
}
