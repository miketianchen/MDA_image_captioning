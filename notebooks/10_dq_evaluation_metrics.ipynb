{
  "nbformat": 4,
  "nbformat_minor": 0,
  "metadata": {
    "accelerator": "GPU",
    "colab": {
      "name": "10_dq_evaluation_metrics.ipynb",
      "provenance": [],
      "collapsed_sections": []
    },
    "kernelspec": {
      "display_name": "Python 3",
      "language": "python",
      "name": "python3"
    },
    "language_info": {
      "codemirror_mode": {
        "name": "ipython",
        "version": 3
      },
      "file_extension": ".py",
      "mimetype": "text/x-python",
      "name": "python",
      "nbconvert_exporter": "python",
      "pygments_lexer": "ipython3",
      "version": "3.7.6"
    }
  },
  "cells": [
    {
      "cell_type": "markdown",
      "metadata": {
        "colab_type": "text",
        "id": "BaIK-bqzFhja"
      },
      "source": [
        "## Evaluation metrics\n",
        "\n",
        "This notebook is built based on our baseline model pytorch v3 version."
      ]
    },
    {
      "cell_type": "code",
      "metadata": {
        "colab_type": "code",
        "id": "m2p8iXQygqRN",
        "colab": {}
      },
      "source": [
        "import os\n",
        "import json\n",
        "from collections import defaultdict\n",
        "from tqdm import tqdm\n",
        "import pickle\n",
        "from time import time\n",
        "import numpy as np\n",
        "from PIL import Image\n",
        "import matplotlib.pyplot as plt\n",
        "from itertools import chain\n",
        "\n",
        "import torch\n",
        "import torch.nn as nn\n",
        "import torch.nn.functional as F\n",
        "import torchvision\n",
        "from torchvision import models, transforms, datasets\n",
        "from torchsummary import summary\n",
        "from torch.nn.utils.rnn import pack_padded_sequence, pad_packed_sequence\n",
        "from torch.utils.data import Dataset, DataLoader\n",
        "\n",
        "from nltk.translate import bleu_score\n",
        "import pandas as pd\n",
        "START = \"startseq\"\n",
        "STOP = \"endseq\"\n",
        "EPOCHS = 10\n",
        "\n"
      ],
      "execution_count": 0,
      "outputs": []
    },
    {
      "cell_type": "markdown",
      "metadata": {
        "colab_type": "text",
        "id": "_7jgA6i88Iv8"
      },
      "source": [
        "### Google CoLab"
      ]
    },
    {
      "cell_type": "markdown",
      "metadata": {
        "colab_type": "text",
        "id": "m_vKum_ygaOS"
      },
      "source": [
        "If you are using Google CoLab then you will need to execute this cell."
      ]
    },
    {
      "cell_type": "code",
      "metadata": {
        "colab_type": "code",
        "id": "2W5oWBSofR7d",
        "outputId": "6efc7a2d-93f5-4751-82ad-f0d2ca32921b",
        "colab": {
          "base_uri": "https://localhost:8080/",
          "height": 51
        }
      },
      "source": [
        "try:\n",
        "    from google.colab import drive\n",
        "    drive.mount('/content/drive', force_remount=True)\n",
        "    root_captioning = \"/content/drive/My Drive/\"\n",
        "    COLAB = True\n",
        "    print(\"Note: using Google CoLab\")\n",
        "except:\n",
        "    print(\"Note: not using Google CoLab\")\n",
        "    COLAB = False"
      ],
      "execution_count": 2,
      "outputs": [
        {
          "output_type": "stream",
          "text": [
            "Mounted at /content/drive\n",
            "Note: using Google CoLab\n"
          ],
          "name": "stdout"
        }
      ]
    },
    {
      "cell_type": "markdown",
      "metadata": {
        "colab_type": "text",
        "id": "VlBS8URRgaOo"
      },
      "source": [
        "## 1. Load dataset\n",
        "\n",
        "- Read captions\n",
        "- Preprocess captions\n",
        "\n",
        "> We need image paths, word lookup tables, and max_length in generating function"
      ]
    },
    {
      "cell_type": "code",
      "metadata": {
        "colab_type": "code",
        "id": "Ra-d7BLlf1nC",
        "colab": {}
      },
      "source": [
        "set_names = ['rsicd', 'ucm']\n",
        "\n",
        "def get_img_info(name, num):\n",
        "    \"\"\"\n",
        "    Returns img paths and captions\n",
        "\n",
        "    Parameters:\n",
        "    -----------\n",
        "    name: str\n",
        "        the json file name\n",
        "    num: int\n",
        "        the number of observations to get\n",
        "\n",
        "    Return:\n",
        "    --------\n",
        "    list, dict, int\n",
        "        img paths, corresponding captions, max length of captions\n",
        "    \"\"\"\n",
        "    img_path = []\n",
        "    caption = [] \n",
        "    max_length = 0\n",
        "    with open(f'{root_captioning}capstone/data/interim/{name}.json', 'r') as json_data:\n",
        "        data = json.load(json_data)\n",
        "        for set_name in set_names:\n",
        "            for filename in data[set_name].keys():\n",
        "                if len(caption) == num:\n",
        "                    break\n",
        "\n",
        "                img_path.append(\n",
        "                    f'{root_captioning}mda/{set_name}/{filename}'\n",
        "                    )\n",
        "                sen_list = []\n",
        "                for sentence in data[set_name][filename]['sentences']:\n",
        "                    max_length = max(max_length, len(sentence['tokens']))\n",
        "                    sen_list.append(sentence['raw'])\n",
        "\n",
        "                caption.append(sen_list)\n",
        "    \n",
        "    return img_path, caption, max_length            \n"
      ],
      "execution_count": 0,
      "outputs": []
    },
    {
      "cell_type": "code",
      "metadata": {
        "colab_type": "code",
        "id": "zMUxfR9xKICI",
        "colab": {}
      },
      "source": [
        "# get img path and caption list\n",
        "# only test 800 train samples and 200 valid samples\n",
        "train_paths, train_descriptions, max_length_train = get_img_info('train', 800)\n",
        "test_paths, test_descriptions, max_length_test = get_img_info('valid', 200)\n",
        "max_length = max(max_length_train, max_length_test)\n"
      ],
      "execution_count": 0,
      "outputs": []
    },
    {
      "cell_type": "code",
      "metadata": {
        "colab_type": "code",
        "id": "Gnq3ZjaSU79-",
        "outputId": "cd8708b4-e681-42e7-c18c-5815ce1cd1dd",
        "colab": {
          "base_uri": "https://localhost:8080/",
          "height": 68
        }
      },
      "source": [
        "print(len(train_descriptions)) # How many images? \n",
        "print(len(test_descriptions)) # How many images? \n",
        "print(max_length) # Maximum length of a caption (in words)"
      ],
      "execution_count": 5,
      "outputs": [
        {
          "output_type": "stream",
          "text": [
            "800\n",
            "200\n",
            "30\n"
          ],
          "name": "stdout"
        }
      ]
    },
    {
      "cell_type": "code",
      "metadata": {
        "colab_type": "code",
        "id": "ZZQZkT8X_qNt",
        "outputId": "f1f0bea2-971f-4849-909a-a30b2fe85318",
        "colab": {
          "base_uri": "https://localhost:8080/",
          "height": 51
        }
      },
      "source": [
        "print(len(train_paths))\n",
        "print(len(test_paths))"
      ],
      "execution_count": 6,
      "outputs": [
        {
          "output_type": "stream",
          "text": [
            "800\n",
            "200\n"
          ],
          "name": "stdout"
        }
      ]
    },
    {
      "cell_type": "code",
      "metadata": {
        "colab_type": "code",
        "id": "2ZQ_Cl71YM55",
        "outputId": "598ec5de-4047-4f4a-ad29-3f771ee2edbf",
        "colab": {
          "base_uri": "https://localhost:8080/",
          "height": 34
        }
      },
      "source": [
        "train_paths[0]"
      ],
      "execution_count": 7,
      "outputs": [
        {
          "output_type": "execute_result",
          "data": {
            "text/plain": [
              "'/content/drive/My Drive/mda/rsicd/denseresidential_363.jpg'"
            ]
          },
          "metadata": {
            "tags": []
          },
          "execution_count": 7
        }
      ]
    },
    {
      "cell_type": "code",
      "metadata": {
        "colab_type": "code",
        "id": "cBX6TJbPF0nD",
        "colab": {}
      },
      "source": [
        "# add start and stop token\n",
        "for v in train_descriptions: \n",
        "  for d in range(len(v)):\n",
        "    v[d] = f'{START} {v[d]} {STOP}'"
      ],
      "execution_count": 0,
      "outputs": []
    },
    {
      "cell_type": "code",
      "metadata": {
        "colab_type": "code",
        "id": "v3_PCjddHcUe",
        "outputId": "52fd463d-9c00-4cb3-d458-0621c41bebd3",
        "colab": {
          "base_uri": "https://localhost:8080/",
          "height": 102
        }
      },
      "source": [
        "train_descriptions[0]"
      ],
      "execution_count": 9,
      "outputs": [
        {
          "output_type": "execute_result",
          "data": {
            "text/plain": [
              "['startseq the area is a densely populated area . endseq',\n",
              " 'startseq many green plants are planted around the neighborhood . endseq',\n",
              " 'startseq many green plants are planted around the neighborhood . endseq',\n",
              " 'startseq the area is a densely populated area . endseq',\n",
              " 'startseq the area is a densely populated area . endseq']"
            ]
          },
          "metadata": {
            "tags": []
          },
          "execution_count": 9
        }
      ]
    },
    {
      "cell_type": "code",
      "metadata": {
        "colab_type": "code",
        "id": "C8DFzzPmXg-n",
        "outputId": "b574cd02-636e-4103-aea6-67d33b346522",
        "colab": {
          "base_uri": "https://localhost:8080/",
          "height": 34
        }
      },
      "source": [
        "# append all train captions\n",
        "all_train_captions = []\n",
        "for val in train_descriptions:\n",
        "    for cap in val:\n",
        "        all_train_captions.append(cap)\n",
        "len(all_train_captions)"
      ],
      "execution_count": 10,
      "outputs": [
        {
          "output_type": "execute_result",
          "data": {
            "text/plain": [
              "4000"
            ]
          },
          "metadata": {
            "tags": []
          },
          "execution_count": 10
        }
      ]
    },
    {
      "cell_type": "code",
      "metadata": {
        "colab_type": "code",
        "id": "w2vQHy7Ja2Py",
        "outputId": "3a2ae2d0-b74a-454e-8620-91f9da0b2b43",
        "colab": {
          "base_uri": "https://localhost:8080/",
          "height": 34
        }
      },
      "source": [
        "all_train_captions[0]"
      ],
      "execution_count": 11,
      "outputs": [
        {
          "output_type": "execute_result",
          "data": {
            "text/plain": [
              "'startseq the area is a densely populated area . endseq'"
            ]
          },
          "metadata": {
            "tags": []
          },
          "execution_count": 11
        }
      ]
    },
    {
      "cell_type": "code",
      "metadata": {
        "colab_type": "code",
        "id": "-HxHSgLgYUUE",
        "outputId": "a72516ae-4020-42d0-aea5-83aaabc1a75a",
        "colab": {
          "base_uri": "https://localhost:8080/",
          "height": 34
        }
      },
      "source": [
        "# remove words occur less than 10 times\n",
        "word_count_threshold = 10\n",
        "word_counts = {}\n",
        "nsents = 0\n",
        "for sent in all_train_captions:\n",
        "    nsents += 1\n",
        "    for w in sent.split(' '):\n",
        "        word_counts[w] = word_counts.get(w, 0) + 1\n",
        "\n",
        "vocab = [w for w in word_counts if word_counts[w] >= word_count_threshold]\n",
        "print('preprocessed words %d ==> %d' % (len(word_counts), len(vocab)))"
      ],
      "execution_count": 12,
      "outputs": [
        {
          "output_type": "stream",
          "text": [
            "preprocessed words 1061 ==> 270\n"
          ],
          "name": "stdout"
        }
      ]
    },
    {
      "cell_type": "code",
      "metadata": {
        "colab_type": "code",
        "id": "Oi3zqAUhYcNP",
        "outputId": "53f44b96-c0e1-482b-ef37-2d8a8c5c8e0a",
        "colab": {
          "base_uri": "https://localhost:8080/",
          "height": 34
        }
      },
      "source": [
        "# build lookup tables\n",
        "idxtoword = {}\n",
        "wordtoidx = {}\n",
        "\n",
        "ix = 1\n",
        "for w in vocab:\n",
        "    wordtoidx[w] = ix\n",
        "    idxtoword[ix] = w\n",
        "    ix += 1\n",
        "    \n",
        "vocab_size = len(idxtoword) + 1 \n",
        "vocab_size"
      ],
      "execution_count": 13,
      "outputs": [
        {
          "output_type": "execute_result",
          "data": {
            "text/plain": [
              "271"
            ]
          },
          "metadata": {
            "tags": []
          },
          "execution_count": 13
        }
      ]
    },
    {
      "cell_type": "code",
      "metadata": {
        "colab_type": "code",
        "id": "KSohY53bYjTi",
        "outputId": "0a7900a4-948e-4616-8f56-ae1ae410a3f0",
        "colab": {
          "base_uri": "https://localhost:8080/",
          "height": 34
        }
      },
      "source": [
        "# adjust max_length\n",
        "max_length +=2\n",
        "print(max_length)"
      ],
      "execution_count": 14,
      "outputs": [
        {
          "output_type": "stream",
          "text": [
            "32\n"
          ],
          "name": "stdout"
        }
      ]
    },
    {
      "cell_type": "code",
      "metadata": {
        "colab_type": "code",
        "id": "w33HKER-vZ7U",
        "outputId": "d5592e74-79c7-46b7-e185-e48d5c9d458b",
        "colab": {
          "base_uri": "https://localhost:8080/",
          "height": 34
        }
      },
      "source": [
        "\n",
        "# load device\n",
        "device = torch.device(\"cuda:0\" if torch.cuda.is_available() else \"cpu\")\n",
        "device"
      ],
      "execution_count": 15,
      "outputs": [
        {
          "output_type": "execute_result",
          "data": {
            "text/plain": [
              "device(type='cuda', index=0)"
            ]
          },
          "metadata": {
            "tags": []
          },
          "execution_count": 15
        }
      ]
    },
    {
      "cell_type": "markdown",
      "metadata": {
        "id": "ygXvdSURHYUz",
        "colab_type": "text"
      },
      "source": [
        "## 2. Load functions (they are required for loading trained model)"
      ]
    },
    {
      "cell_type": "code",
      "metadata": {
        "colab_type": "code",
        "id": "DWOP58lrtGwt",
        "colab": {}
      },
      "source": [
        "class CNNModel(nn.Module):\n",
        "\n",
        "    def __init__(self, cnn_type, pretrained=True):\n",
        "        \"\"\"\n",
        "        Initializes a CNNModel\n",
        "\n",
        "        Parameters:\n",
        "        -----------\n",
        "        cnn_type: str\n",
        "            the CNN type, either 'vgg16' or 'inception_v3'\n",
        "        pretrained: bool (default: True)\n",
        "            use pretrained model if True\n",
        "\n",
        "        \"\"\"\n",
        "\n",
        "        super(CNNModel, self).__init__()\n",
        "\n",
        "        if cnn_type == 'vgg16':\n",
        "          self.model = models.vgg16(pretrained=pretrained)\n",
        "\n",
        "          # remove the last two layers in classifier\n",
        "          self.model.classifier = nn.Sequential(\n",
        "              *list(self.model.classifier.children())[:-2]\n",
        "          )\n",
        "          self.input_size = 224     \n",
        "\n",
        "        # inception v3 expects (299, 299) sized images\n",
        "        elif cnn_type == 'inception_v3':\n",
        "          self.model = models.inception_v3(pretrained=pretrained)\n",
        "          # remove the classification layer\n",
        "          self.model.fc = nn.Identity()\n",
        "\n",
        "          # turn off auxiliary output\n",
        "          self.model.aux_logits = False\n",
        "          self.input_size = 299\n",
        "\n",
        "        else:\n",
        "          raise Exception(\"Please choose between 'vgg16' and 'inception_v3'.\")\n",
        "\n",
        "    def forward(self, img_input, train=False):\n",
        "        \"\"\"\n",
        "        forward of the CNNModel\n",
        "\n",
        "        Parameters:\n",
        "        -----------\n",
        "        img_input: torch.Tensor\n",
        "            the image matrix\n",
        "        train: bool (default: False)\n",
        "            use the model only for feature extraction if False\n",
        "\n",
        "        Return:\n",
        "        --------\n",
        "        torch.Tensor\n",
        "            image feature matrix\n",
        "        \"\"\"\n",
        "        if not train:\n",
        "          # set the model to evaluation model\n",
        "          self.model.eval()\n",
        "\n",
        "        return self.model(img_input)"
      ],
      "execution_count": 0,
      "outputs": []
    },
    {
      "cell_type": "code",
      "metadata": {
        "colab_type": "code",
        "id": "5uWZ8QOOXtUM",
        "colab": {}
      },
      "source": [
        "class RNNModel(nn.Module):\n",
        "\n",
        "    def __init__(\n",
        "        self, \n",
        "        vocab_size, \n",
        "        embedding_dim, \n",
        "        hidden_size=256,\n",
        "        embedding_matrix=None, \n",
        "        embedding_train=False\n",
        "    ):\n",
        "      \n",
        "        \"\"\"\n",
        "        Initializes a RNNModel\n",
        "\n",
        "        Parameters:\n",
        "        -----------\n",
        "        vocab_size: int\n",
        "            the size of the vocabulary\n",
        "        embedding_dim: int\n",
        "            the number of features in the embedding matrix\n",
        "        hidden_size: int (default: 256)\n",
        "            the size of the hidden state in LSTM\n",
        "        embedding_matrix: torch.Tensor (default: None)\n",
        "            if not None, use this matrix as the embedding matrix\n",
        "        embedding_train: bool (default: False)\n",
        "            not train the embedding matrix if False\n",
        "        \"\"\"\n",
        "\n",
        "        super(RNNModel, self).__init__()\n",
        "        self.embedding = nn.Embedding(vocab_size, embedding_dim, padding_idx=0)\n",
        "\n",
        "        if embedding_matrix is not None:\n",
        "\n",
        "          self.embedding.load_state_dict({\n",
        "              'weight': torch.FloatTensor(embedding_matrix)\n",
        "          })\n",
        "          self.embedding.requires_grad = embedding_train\n",
        "\n",
        "        self.dropout = nn.Dropout(p=0.5)\n",
        "\n",
        "        self.lstm = nn.LSTM(embedding_dim, hidden_size, batch_first=True)\n",
        " \n",
        "\n",
        "    def forward(self, captions):\n",
        "        \"\"\"\n",
        "        forward of the RNNModel\n",
        "\n",
        "        Parameters:\n",
        "        -----------\n",
        "        captions: torch.Tensor\n",
        "            the padded caption matrix\n",
        "\n",
        "        Return:\n",
        "        --------\n",
        "        torch.Tensor\n",
        "            word probabilities for each position\n",
        "        \"\"\"\n",
        "\n",
        "        # embed the captions\n",
        "        embedding = self.dropout(self.embedding(captions))\n",
        "\n",
        "        outputs, (h, c) = self.lstm(embedding)\n",
        "\n",
        "        return outputs, (h, c)\n",
        "\n",
        "\n"
      ],
      "execution_count": 0,
      "outputs": []
    },
    {
      "cell_type": "code",
      "metadata": {
        "colab_type": "code",
        "id": "vzigDNU6jEly",
        "colab": {}
      },
      "source": [
        "class CaptionModel(nn.Module):\n",
        "\n",
        "    def __init__(\n",
        "        self, \n",
        "        cnn_type, \n",
        "        vocab_size, \n",
        "        embedding_dim, \n",
        "        hidden_size=256,\n",
        "        embedding_matrix=None, \n",
        "        embedding_train=False\n",
        "    ):\n",
        "\n",
        "        \"\"\"\n",
        "        Initializes a CaptionModel\n",
        "\n",
        "        Parameters:\n",
        "        -----------\n",
        "        cnn_type: str\n",
        "            the CNN type, either 'vgg16' or 'inception_v3'\n",
        "        vocab_size: int\n",
        "            the size of the vocabulary\n",
        "        embedding_dim: int\n",
        "            the number of features in the embedding matrix\n",
        "        feature_size: int\n",
        "            the number of features in the image matrix\n",
        "        hidden_size: int (default: 256)\n",
        "            the size of the hidden state in LSTM\n",
        "        embedding_matrix: torch.Tensor (default: None)\n",
        "            if not None, use this matrix as the embedding matrix\n",
        "        embedding_train: bool (default: False)\n",
        "            not train the embedding matrix if False\n",
        "        \"\"\"    \n",
        "        super(CaptionModel, self).__init__() \n",
        "\n",
        "        # set feature_size based on cnn_type\n",
        "        if cnn_type == 'vgg16':\n",
        "            self.feature_size = 4096\n",
        "        elif cnn_type == 'inception_v3':\n",
        "            self.feature_size = 2048\n",
        "        else:\n",
        "            raise Exception(\"Please choose between 'vgg16' and 'inception_v3'.\")  \n",
        "\n",
        "        self.decoder = RNNModel(\n",
        "            vocab_size, \n",
        "            embedding_dim,\n",
        "            hidden_size,\n",
        "            embedding_matrix,\n",
        "            embedding_train\n",
        "        )\n",
        "        \n",
        "        self.dropout = nn.Dropout(p=0.5)\n",
        "        self.dense1 = nn.Linear(self.feature_size, hidden_size) \n",
        "        self.relu1 = nn.ReLU()\n",
        "          \n",
        "        self.dense2 = nn.Linear(hidden_size, hidden_size) \n",
        "        self.relu2 = nn.ReLU()\n",
        "        self.dense3 = nn.Linear(hidden_size, vocab_size) \n",
        "\n",
        "    def forward(self, img_features, captions):\n",
        "        \"\"\"\n",
        "        forward of the CaptionModel\n",
        "\n",
        "        Parameters:\n",
        "        -----------\n",
        "        img_features: torch.Tensor\n",
        "            the image feature matrix\n",
        "        captions: torch.Tensor\n",
        "            the padded caption matrix\n",
        "\n",
        "        Return:\n",
        "        --------\n",
        "        torch.Tensor\n",
        "            word probabilities for each position\n",
        "        \"\"\"\n",
        "\n",
        "        img_features =\\\n",
        "        self.relu1(\n",
        "            self.dense1(\n",
        "                self.dropout(\n",
        "                    img_features\n",
        "                )\n",
        "            )\n",
        "        )\n",
        "\n",
        "        decoder_out, _ = self.decoder(captions)\n",
        "\n",
        "        # add up decoder outputs and image features\n",
        "        outputs =\\\n",
        "        self.dense3(\n",
        "            self.relu2(\n",
        "                self.dense2(\n",
        "                    decoder_out.add(\n",
        "                        (img_features.view(img_features.size(0), 1, -1))\\\n",
        "                        .repeat(1, decoder_out.size(1), 1)\n",
        "                    )\n",
        "                )\n",
        "            )\n",
        "        )\n",
        "\n",
        "        return outputs"
      ],
      "execution_count": 0,
      "outputs": []
    },
    {
      "cell_type": "markdown",
      "metadata": {
        "colab_type": "text",
        "id": "wCSzCGtB8-KM"
      },
      "source": [
        "## 3. Load pre-extracted image features and pre-trained model"
      ]
    },
    {
      "cell_type": "code",
      "metadata": {
        "colab_type": "code",
        "id": "dyCHBbjnf2b1",
        "colab": {}
      },
      "source": [
        "# load model\n",
        "model_path = f'{root_captioning}/capstone/models/caption-model_pytorch_inc_v3.hdf5'\n",
        "caption_model = torch.load(model_path)"
      ],
      "execution_count": 0,
      "outputs": []
    },
    {
      "cell_type": "code",
      "metadata": {
        "id": "hcP-9HrlD60n",
        "colab_type": "code",
        "colab": {}
      },
      "source": [
        "# load img features\n",
        "with open(f'{root_captioning}/capstone/models/test_pytorch_inc_v3.pkl', 'rb') as f:\n",
        "    test_img_features = pickle.load(f)\n",
        "\n",
        "with open(f'{root_captioning}/capstone/models/train_pytorch_inc_v3.pkl', 'rb') as f2:\n",
        "    train_img_features = pickle.load(f2)"
      ],
      "execution_count": 0,
      "outputs": []
    },
    {
      "cell_type": "markdown",
      "metadata": {
        "colab_type": "text",
        "id": "Ymx07aUHpHMZ"
      },
      "source": [
        "## 4. Evaluation on test data"
      ]
    },
    {
      "cell_type": "code",
      "metadata": {
        "colab_type": "code",
        "id": "a5WoWWbc9Y-g",
        "colab": {}
      },
      "source": [
        "def generateCaption(img_features):\n",
        "    in_text = START\n",
        "\n",
        "    for i in range(max_length):\n",
        "\n",
        "        sequence = [wordtoidx[w] for w in in_text.split() if w in wordtoidx]\n",
        "        sequence = np.pad(sequence, (0, max_length - len(sequence)),\n",
        "                          mode='constant', constant_values=(0, 0))\n",
        "        caption_model.eval()\n",
        "        yhat = caption_model(\n",
        "            torch.FloatTensor(img_features)\\\n",
        "            .view(-1, caption_model.feature_size).to(device),\n",
        "            torch.LongTensor(sequence).view(-1, max_length).to(device)\n",
        "        )\n",
        "\n",
        "        yhat = yhat.view(-1, vocab_size).argmax(1)\n",
        "        word = idxtoword[yhat.cpu().data.numpy()[i]]\n",
        "        in_text += ' ' + word\n",
        "        if word == STOP:\n",
        "            break\n",
        "    final = in_text.split()\n",
        "    final = final[1 : -1]\n",
        "    final = ' '.join(final)\n",
        "    return final"
      ],
      "execution_count": 0,
      "outputs": []
    },
    {
      "cell_type": "code",
      "metadata": {
        "id": "S2Ekfw25OAWp",
        "colab_type": "code",
        "outputId": "e0fe670a-1ac6-429d-cddf-77ba3c2e2af7",
        "colab": {
          "base_uri": "https://localhost:8080/",
          "height": 269
        }
      },
      "source": [
        "pic = test_paths[0]\n",
        "img_features = test_img_features[0]\n",
        "x = plt.imread(pic)\n",
        "plt.imshow(x)\n",
        "plt.show()"
      ],
      "execution_count": 22,
      "outputs": [
        {
          "output_type": "display_data",
          "data": {
            "image/png": "[encoded data removed]",
            "text/plain": [
              "<Figure size 432x288 with 1 Axes>"
            ]
          },
          "metadata": {
            "tags": [],
            "needs_background": "light"
          }
        }
      ]
    },
    {
      "cell_type": "code",
      "metadata": {
        "id": "ZoHzb2RaOPXB",
        "colab_type": "code",
        "outputId": "b00ba3c3-355e-436f-8b58-eccafa595519",
        "colab": {
          "base_uri": "https://localhost:8080/",
          "height": 700
        }
      },
      "source": [
        "print(\"Human-annotated Caption:\\n\", test_descriptions[0])\n",
        "human_annotated_caption = [caption.split() for caption in test_descriptions[0]]\n",
        "human_annotated_caption"
      ],
      "execution_count": 23,
      "outputs": [
        {
          "output_type": "stream",
          "text": [
            "Human-annotated Caption:\n",
            " ['the lake is surrounded by many thick trees .', 'the resident areas besides the dark green trees .', 'a park with many green trees and several ponds is between a river and some buildings .', 'a park with many green trees and several ponds is between a river and some buildings .', 'the lake is surrounded by many thick trees .']\n"
          ],
          "name": "stdout"
        },
        {
          "output_type": "execute_result",
          "data": {
            "text/plain": [
              "[['the', 'lake', 'is', 'surrounded', 'by', 'many', 'thick', 'trees', '.'],\n",
              " ['the', 'resident', 'areas', 'besides', 'the', 'dark', 'green', 'trees', '.'],\n",
              " ['a',\n",
              "  'park',\n",
              "  'with',\n",
              "  'many',\n",
              "  'green',\n",
              "  'trees',\n",
              "  'and',\n",
              "  'several',\n",
              "  'ponds',\n",
              "  'is',\n",
              "  'between',\n",
              "  'a',\n",
              "  'river',\n",
              "  'and',\n",
              "  'some',\n",
              "  'buildings',\n",
              "  '.'],\n",
              " ['a',\n",
              "  'park',\n",
              "  'with',\n",
              "  'many',\n",
              "  'green',\n",
              "  'trees',\n",
              "  'and',\n",
              "  'several',\n",
              "  'ponds',\n",
              "  'is',\n",
              "  'between',\n",
              "  'a',\n",
              "  'river',\n",
              "  'and',\n",
              "  'some',\n",
              "  'buildings',\n",
              "  '.'],\n",
              " ['the', 'lake', 'is', 'surrounded', 'by', 'many', 'thick', 'trees', '.']]"
            ]
          },
          "metadata": {
            "tags": []
          },
          "execution_count": 23
        }
      ]
    },
    {
      "cell_type": "code",
      "metadata": {
        "id": "GAvZMsZAOVfM",
        "colab_type": "code",
        "outputId": "d3fcb459-076a-434e-9357-53b64f834c4f",
        "colab": {
          "base_uri": "https://localhost:8080/",
          "height": 51
        }
      },
      "source": [
        "  generated = generateCaption(img_features)\n",
        "  print(\"Generated Caption:\\n\", generated)"
      ],
      "execution_count": 24,
      "outputs": [
        {
          "output_type": "stream",
          "text": [
            "Generated Caption:\n",
            " many pieces of green plants are in two sides of a river with branches and a bridge over it .\n"
          ],
          "name": "stdout"
        }
      ]
    },
    {
      "cell_type": "code",
      "metadata": {
        "id": "p2WQih57PcVv",
        "colab_type": "code",
        "outputId": "01f56ba0-e2d6-4056-941c-f28a2349c529",
        "colab": {
          "base_uri": "https://localhost:8080/",
          "height": 357
        }
      },
      "source": [
        "generated.split()"
      ],
      "execution_count": 25,
      "outputs": [
        {
          "output_type": "execute_result",
          "data": {
            "text/plain": [
              "['many',\n",
              " 'pieces',\n",
              " 'of',\n",
              " 'green',\n",
              " 'plants',\n",
              " 'are',\n",
              " 'in',\n",
              " 'two',\n",
              " 'sides',\n",
              " 'of',\n",
              " 'a',\n",
              " 'river',\n",
              " 'with',\n",
              " 'branches',\n",
              " 'and',\n",
              " 'a',\n",
              " 'bridge',\n",
              " 'over',\n",
              " 'it',\n",
              " '.']"
            ]
          },
          "metadata": {
            "tags": []
          },
          "execution_count": 25
        }
      ]
    },
    {
      "cell_type": "markdown",
      "metadata": {
        "id": "Th3IIwmaJwMZ",
        "colab_type": "text"
      },
      "source": [
        "### 1. BLEU score"
      ]
    },
    {
      "cell_type": "markdown",
      "metadata": {
        "id": "r3feJic_hDRr",
        "colab_type": "text"
      },
      "source": [
        "**Bilingual Evaluation Understudy Score**\n",
        "\n",
        "The Bilingual Evaluation Understudy Score, or BLEU for short, is a metric for evaluating a generated sentence to a reference sentence.\n",
        "\n",
        "A perfect match results in a score of 1.0, whereas a perfect mismatch results in a score of 0.0.\n",
        "\n",
        "\n",
        "**Cumulative N-Gram Scores**\n",
        "\n",
        "Cumulative scores refer to the calculation of individual n-gram scores at all orders from 1 to n and weighting them by calculating the weighted geometric mean.\n",
        "\n",
        "The cumulative and individual 1-gram BLEU use the same weights, e.g. (1, 0, 0, 0). The 2-gram weights assign a 50% to each of 1-gram and 2-gram and the 3-gram weights are 33% for each of the 1, 2 and 3-gram scores.\n",
        "\n",
        "By default, the sentence_bleu() and corpus_bleu() scores calculate the cumulative 4-gram BLEU score, also called BLEU-4.\n",
        "\n",
        "The weights for the BLEU-4 are 1/4 (25%) or 0.25 for each of the 1-gram, 2-gram, 3-gram and 4-gram scores. \n",
        "\n",
        "For more information see [here](https://machinelearningmastery.com/calculate-bleu-score-for-text-python/)"
      ]
    },
    {
      "cell_type": "code",
      "metadata": {
        "id": "JK42bDuzPtIc",
        "colab_type": "code",
        "outputId": "80ea88f7-eaf8-4c0c-e3ce-163ed2fa2d87",
        "colab": {
          "base_uri": "https://localhost:8080/",
          "height": 289
        }
      },
      "source": [
        "# cummulative bleu score\n",
        "\n",
        "from nltk.translate.bleu_score import sentence_bleu\n",
        "\n",
        "b1 = sentence_bleu(human_annotated_caption, generated.split(), weights=(1, 0, 0, 0))\n",
        "b2 = sentence_bleu(human_annotated_caption, generated.split(), weights=(0.5, 0.5, 0, 0))\n",
        "b3 = sentence_bleu(human_annotated_caption, generated.split(), weights=(0.33, 0.33, 0.33, 0))\n",
        "b4 = sentence_bleu(human_annotated_caption, generated.split(), weights=(0.25, 0.25, 0.25, 0.25))\n",
        "print('BLEU-1 score: %f' % b1)\n",
        "print('BLEU-2 score: %f' % b2)\n",
        "print('BLEU-3 score: %f' % b3)\n",
        "print('BLEU-4 score: %f' % b4)"
      ],
      "execution_count": 26,
      "outputs": [
        {
          "output_type": "stream",
          "text": [
            "BLEU-1 score: 0.400000\n",
            "BLEU-2 score: 0.145095\n",
            "BLEU-3 score: 0.000000\n",
            "BLEU-4 score: 0.000000\n"
          ],
          "name": "stdout"
        },
        {
          "output_type": "stream",
          "text": [
            "/usr/local/lib/python3.6/dist-packages/nltk/translate/bleu_score.py:516: UserWarning: \n",
            "The hypothesis contains 0 counts of 3-gram overlaps.\n",
            "Therefore the BLEU score evaluates to 0, independently of\n",
            "how many N-gram overlaps of lower order it contains.\n",
            "Consider using lower n-gram order or use SmoothingFunction()\n",
            "  warnings.warn(_msg)\n",
            "/usr/local/lib/python3.6/dist-packages/nltk/translate/bleu_score.py:516: UserWarning: \n",
            "The hypothesis contains 0 counts of 4-gram overlaps.\n",
            "Therefore the BLEU score evaluates to 0, independently of\n",
            "how many N-gram overlaps of lower order it contains.\n",
            "Consider using lower n-gram order or use SmoothingFunction()\n",
            "  warnings.warn(_msg)\n"
          ],
          "name": "stderr"
        }
      ]
    },
    {
      "cell_type": "markdown",
      "metadata": {
        "id": "SVX-jPSJQ0tJ",
        "colab_type": "text"
      },
      "source": [
        "### 2. Rouge-L"
      ]
    },
    {
      "cell_type": "markdown",
      "metadata": {
        "id": "pEIRvcI5kXgw",
        "colab_type": "text"
      },
      "source": [
        "ROUGE stands for Recall-Oriented Understudy for Gisting Evaluation. It is essentially of a set of metrics for evaluating automatic summarization of texts as well as machine translation. It works by comparing an automatically produced summary or translation against a set of reference summaries (typically human- produced)\n",
        "\n",
        "For more information, see [here](http://www.ccs.neu.edu/home/vip/teach/DMcourse/5_topicmodel_summ/notes_slides/What-is-ROUGE.pdf)"
      ]
    },
    {
      "cell_type": "code",
      "metadata": {
        "id": "dBgtzSfOmtXT",
        "colab_type": "code",
        "outputId": "18b78a1b-2bdd-44fd-d3e4-b25f252101de",
        "colab": {
          "base_uri": "https://localhost:8080/",
          "height": 170
        }
      },
      "source": [
        "!pip install rouge-score"
      ],
      "execution_count": 27,
      "outputs": [
        {
          "output_type": "stream",
          "text": [
            "Requirement already satisfied: rouge-score in /usr/local/lib/python3.6/dist-packages (0.0.3)\n",
            "Requirement already satisfied: numpy in /usr/local/lib/python3.6/dist-packages (from rouge-score) (1.18.4)\n",
            "Requirement already satisfied: absl-py in /usr/local/lib/python3.6/dist-packages (from rouge-score) (0.9.0)\n",
            "Requirement already satisfied: six>=1.12.0 in /usr/local/lib/python3.6/dist-packages (from rouge-score) (1.12.0)\n",
            "Requirement already satisfied: nltk in /usr/local/lib/python3.6/dist-packages (from rouge-score) (3.5)\n",
            "Requirement already satisfied: regex in /usr/local/lib/python3.6/dist-packages (from nltk->rouge-score) (2019.12.20)\n",
            "Requirement already satisfied: tqdm in /usr/local/lib/python3.6/dist-packages (from nltk->rouge-score) (4.41.1)\n",
            "Requirement already satisfied: joblib in /usr/local/lib/python3.6/dist-packages (from nltk->rouge-score) (0.15.1)\n",
            "Requirement already satisfied: click in /usr/local/lib/python3.6/dist-packages (from nltk->rouge-score) (7.1.2)\n"
          ],
          "name": "stdout"
        }
      ]
    },
    {
      "cell_type": "code",
      "metadata": {
        "id": "gR_12KfjqVLL",
        "colab_type": "code",
        "outputId": "e7495fcc-5a30-4fdb-f074-a291caf4b59a",
        "colab": {
          "base_uri": "https://localhost:8080/",
          "height": 54
        }
      },
      "source": [
        "human_annotated_caption_sum = \" \\n \".join(test_descriptions[0])\n",
        "human_annotated_caption_sum"
      ],
      "execution_count": 28,
      "outputs": [
        {
          "output_type": "execute_result",
          "data": {
            "text/plain": [
              "'the lake is surrounded by many thick trees . \\n the resident areas besides the dark green trees . \\n a park with many green trees and several ponds is between a river and some buildings . \\n a park with many green trees and several ponds is between a river and some buildings . \\n the lake is surrounded by many thick trees .'"
            ]
          },
          "metadata": {
            "tags": []
          },
          "execution_count": 28
        }
      ]
    },
    {
      "cell_type": "code",
      "metadata": {
        "id": "fCmeDHRLm5hj",
        "colab_type": "code",
        "outputId": "6e92d803-43f7-432b-a6fe-41620a03a0b0",
        "colab": {
          "base_uri": "https://localhost:8080/",
          "height": 51
        }
      },
      "source": [
        "# the package can be found here: https://github.com/google-research/google-research/tree/master/rouge\n",
        "from rouge_score import rouge_scorer\n",
        "\n",
        "scorer = rouge_scorer.RougeScorer(['rougeLsum'], use_stemmer=True)\n",
        "scores = scorer.score(human_annotated_caption_sum,\n",
        "                      generated)\n",
        "print(scores)\n",
        "rouge_l_f1 = scores['rougeLsum'][2]\n",
        "print(\"Rouge-L score is \", rouge_l_f1)"
      ],
      "execution_count": 29,
      "outputs": [
        {
          "output_type": "stream",
          "text": [
            "{'rougeLsum': Score(precision=0.3157894736842105, recall=0.10714285714285714, fmeasure=0.16)}\n",
            "Rouge-L score is  0.16\n"
          ],
          "name": "stdout"
        }
      ]
    },
    {
      "cell_type": "code",
      "metadata": {
        "id": "KvSq3rICp9L9",
        "colab_type": "code",
        "colab": {}
      },
      "source": [
        "rouge_l_f1 = scores['rougeLsum'][2]"
      ],
      "execution_count": 0,
      "outputs": []
    },
    {
      "cell_type": "markdown",
      "metadata": {
        "id": "eS1PioMxVHC0",
        "colab_type": "text"
      },
      "source": [
        "### 3. METEOR"
      ]
    },
    {
      "cell_type": "markdown",
      "metadata": {
        "id": "8U1KUGFt9S1G",
        "colab_type": "text"
      },
      "source": [
        "METEOR (Metric for Evaluation of Translation with Explicit ORdering) is a metric for the evaluation of machine translation output. The metric is based on the harmonic mean of unigram precision and recall, with recall weighted higher than precision. It also has several features that are not found in other metrics, such as stemming and synonymy matching, along with the standard exact word matching. The metric was designed to fix some of the problems found in the more popular BLEU metric, and also produce good correlation with human judgement at the sentence or segment level\n",
        "\n",
        "for more information, see [here](https://en.wikipedia.org/wiki/METEOR)"
      ]
    },
    {
      "cell_type": "code",
      "metadata": {
        "id": "GFZkmbJrtlYK",
        "colab_type": "code",
        "colab": {}
      },
      "source": [
        "import nltk\n",
        "### having trouble import the meteor score from nltk"
      ],
      "execution_count": 0,
      "outputs": []
    },
    {
      "cell_type": "code",
      "metadata": {
        "id": "KQ6zyRLf7xmW",
        "colab_type": "code",
        "colab": {
          "base_uri": "https://localhost:8080/",
          "height": 392
        },
        "outputId": "52ea27b8-c7f8-422f-dee1-3c13e98a7a32"
      },
      "source": [
        "!pip install nltk==3.5"
      ],
      "execution_count": 40,
      "outputs": [
        {
          "output_type": "stream",
          "text": [
            "Collecting nltk==3.5\n",
            "\u001b[?25l  Downloading https://files.pythonhosted.org/packages/92/75/ce35194d8e3022203cca0d2f896dbb88689f9b3fce8e9f9cff942913519d/nltk-3.5.zip (1.4MB)\n",
            "\r\u001b[K     |▎                               | 10kB 20.6MB/s eta 0:00:01\r\u001b[K     |▌                               | 20kB 1.7MB/s eta 0:00:01\r\u001b[K     |▊                               | 30kB 2.3MB/s eta 0:00:01\r\u001b[K     |█                               | 40kB 2.5MB/s eta 0:00:01\r\u001b[K     |█▏                              | 51kB 2.0MB/s eta 0:00:01\r\u001b[K     |█▍                              | 61kB 2.3MB/s eta 0:00:01\r\u001b[K     |█▋                              | 71kB 2.5MB/s eta 0:00:01\r\u001b[K     |█▉                              | 81kB 2.7MB/s eta 0:00:01\r\u001b[K     |██                              | 92kB 2.9MB/s eta 0:00:01\r\u001b[K     |██▎                             | 102kB 2.8MB/s eta 0:00:01\r\u001b[K     |██▌                             | 112kB 2.8MB/s eta 0:00:01\r\u001b[K     |██▊                             | 122kB 2.8MB/s eta 0:00:01\r\u001b[K     |███                             | 133kB 2.8MB/s eta 0:00:01\r\u001b[K     |███▏                            | 143kB 2.8MB/s eta 0:00:01\r\u001b[K     |███▍                            | 153kB 2.8MB/s eta 0:00:01\r\u001b[K     |███▋                            | 163kB 2.8MB/s eta 0:00:01\r\u001b[K     |███▉                            | 174kB 2.8MB/s eta 0:00:01\r\u001b[K     |████▏                           | 184kB 2.8MB/s eta 0:00:01\r\u001b[K     |████▍                           | 194kB 2.8MB/s eta 0:00:01\r\u001b[K     |████▋                           | 204kB 2.8MB/s eta 0:00:01\r\u001b[K     |████▉                           | 215kB 2.8MB/s eta 0:00:01\r\u001b[K     |█████                           | 225kB 2.8MB/s eta 0:00:01\r\u001b[K     |█████▎                          | 235kB 2.8MB/s eta 0:00:01\r\u001b[K     |█████▌                          | 245kB 2.8MB/s eta 0:00:01\r\u001b[K     |█████▊                          | 256kB 2.8MB/s eta 0:00:01\r\u001b[K     |██████                          | 266kB 2.8MB/s eta 0:00:01\r\u001b[K     |██████▏                         | 276kB 2.8MB/s eta 0:00:01\r\u001b[K     |██████▍                         | 286kB 2.8MB/s eta 0:00:01\r\u001b[K     |██████▋                         | 296kB 2.8MB/s eta 0:00:01\r\u001b[K     |██████▉                         | 307kB 2.8MB/s eta 0:00:01\r\u001b[K     |███████                         | 317kB 2.8MB/s eta 0:00:01\r\u001b[K     |███████▎                        | 327kB 2.8MB/s eta 0:00:01\r\u001b[K     |███████▌                        | 337kB 2.8MB/s eta 0:00:01\r\u001b[K     |███████▊                        | 348kB 2.8MB/s eta 0:00:01\r\u001b[K     |████████                        | 358kB 2.8MB/s eta 0:00:01\r\u001b[K     |████████▎                       | 368kB 2.8MB/s eta 0:00:01\r\u001b[K     |████████▌                       | 378kB 2.8MB/s eta 0:00:01\r\u001b[K     |████████▊                       | 389kB 2.8MB/s eta 0:00:01\r\u001b[K     |█████████                       | 399kB 2.8MB/s eta 0:00:01\r\u001b[K     |█████████▏                      | 409kB 2.8MB/s eta 0:00:01\r\u001b[K     |█████████▍                      | 419kB 2.8MB/s eta 0:00:01\r\u001b[K     |█████████▋                      | 430kB 2.8MB/s eta 0:00:01\r\u001b[K     |█████████▉                      | 440kB 2.8MB/s eta 0:00:01\r\u001b[K     |██████████                      | 450kB 2.8MB/s eta 0:00:01\r\u001b[K     |██████████▎                     | 460kB 2.8MB/s eta 0:00:01\r\u001b[K     |██████████▌                     | 471kB 2.8MB/s eta 0:00:01\r\u001b[K     |██████████▊                     | 481kB 2.8MB/s eta 0:00:01\r\u001b[K     |███████████                     | 491kB 2.8MB/s eta 0:00:01\r\u001b[K     |███████████▏                    | 501kB 2.8MB/s eta 0:00:01\r\u001b[K     |███████████▍                    | 512kB 2.8MB/s eta 0:00:01\r\u001b[K     |███████████▋                    | 522kB 2.8MB/s eta 0:00:01\r\u001b[K     |███████████▉                    | 532kB 2.8MB/s eta 0:00:01\r\u001b[K     |████████████▏                   | 542kB 2.8MB/s eta 0:00:01\r\u001b[K     |████████████▍                   | 552kB 2.8MB/s eta 0:00:01\r\u001b[K     |████████████▋                   | 563kB 2.8MB/s eta 0:00:01\r\u001b[K     |████████████▉                   | 573kB 2.8MB/s eta 0:00:01\r\u001b[K     |█████████████                   | 583kB 2.8MB/s eta 0:00:01\r\u001b[K     |█████████████▎                  | 593kB 2.8MB/s eta 0:00:01\r\u001b[K     |█████████████▌                  | 604kB 2.8MB/s eta 0:00:01\r\u001b[K     |█████████████▊                  | 614kB 2.8MB/s eta 0:00:01\r\u001b[K     |██████████████                  | 624kB 2.8MB/s eta 0:00:01\r\u001b[K     |██████████████▏                 | 634kB 2.8MB/s eta 0:00:01\r\u001b[K     |██████████████▍                 | 645kB 2.8MB/s eta 0:00:01\r\u001b[K     |██████████████▋                 | 655kB 2.8MB/s eta 0:00:01\r\u001b[K     |██████████████▉                 | 665kB 2.8MB/s eta 0:00:01\r\u001b[K     |███████████████                 | 675kB 2.8MB/s eta 0:00:01\r\u001b[K     |███████████████▎                | 686kB 2.8MB/s eta 0:00:01\r\u001b[K     |███████████████▌                | 696kB 2.8MB/s eta 0:00:01\r\u001b[K     |███████████████▊                | 706kB 2.8MB/s eta 0:00:01\r\u001b[K     |████████████████                | 716kB 2.8MB/s eta 0:00:01\r\u001b[K     |████████████████▎               | 727kB 2.8MB/s eta 0:00:01\r\u001b[K     |████████████████▌               | 737kB 2.8MB/s eta 0:00:01\r\u001b[K     |████████████████▊               | 747kB 2.8MB/s eta 0:00:01\r\u001b[K     |█████████████████               | 757kB 2.8MB/s eta 0:00:01\r\u001b[K     |█████████████████▏              | 768kB 2.8MB/s eta 0:00:01\r\u001b[K     |█████████████████▍              | 778kB 2.8MB/s eta 0:00:01\r\u001b[K     |█████████████████▋              | 788kB 2.8MB/s eta 0:00:01\r\u001b[K     |█████████████████▉              | 798kB 2.8MB/s eta 0:00:01\r\u001b[K     |██████████████████              | 808kB 2.8MB/s eta 0:00:01\r\u001b[K     |██████████████████▎             | 819kB 2.8MB/s eta 0:00:01\r\u001b[K     |██████████████████▌             | 829kB 2.8MB/s eta 0:00:01\r\u001b[K     |██████████████████▊             | 839kB 2.8MB/s eta 0:00:01\r\u001b[K     |███████████████████             | 849kB 2.8MB/s eta 0:00:01\r\u001b[K     |███████████████████▏            | 860kB 2.8MB/s eta 0:00:01\r\u001b[K     |███████████████████▍            | 870kB 2.8MB/s eta 0:00:01\r\u001b[K     |███████████████████▋            | 880kB 2.8MB/s eta 0:00:01\r\u001b[K     |███████████████████▉            | 890kB 2.8MB/s eta 0:00:01\r\u001b[K     |████████████████████▏           | 901kB 2.8MB/s eta 0:00:01\r\u001b[K     |████████████████████▍           | 911kB 2.8MB/s eta 0:00:01\r\u001b[K     |████████████████████▋           | 921kB 2.8MB/s eta 0:00:01\r\u001b[K     |████████████████████▉           | 931kB 2.8MB/s eta 0:00:01\r\u001b[K     |█████████████████████           | 942kB 2.8MB/s eta 0:00:01\r\u001b[K     |█████████████████████▎          | 952kB 2.8MB/s eta 0:00:01\r\u001b[K     |█████████████████████▌          | 962kB 2.8MB/s eta 0:00:01\r\u001b[K     |█████████████████████▊          | 972kB 2.8MB/s eta 0:00:01\r\u001b[K     |██████████████████████          | 983kB 2.8MB/s eta 0:00:01\r\u001b[K     |██████████████████████▏         | 993kB 2.8MB/s eta 0:00:01\r\u001b[K     |██████████████████████▍         | 1.0MB 2.8MB/s eta 0:00:01\r\u001b[K     |██████████████████████▋         | 1.0MB 2.8MB/s eta 0:00:01\r\u001b[K     |██████████████████████▉         | 1.0MB 2.8MB/s eta 0:00:01\r\u001b[K     |███████████████████████         | 1.0MB 2.8MB/s eta 0:00:01\r\u001b[K     |███████████████████████▎        | 1.0MB 2.8MB/s eta 0:00:01\r\u001b[K     |███████████████████████▌        | 1.1MB 2.8MB/s eta 0:00:01\r\u001b[K     |███████████████████████▊        | 1.1MB 2.8MB/s eta 0:00:01\r\u001b[K     |████████████████████████        | 1.1MB 2.8MB/s eta 0:00:01\r\u001b[K     |████████████████████████▎       | 1.1MB 2.8MB/s eta 0:00:01\r\u001b[K     |████████████████████████▌       | 1.1MB 2.8MB/s eta 0:00:01\r\u001b[K     |████████████████████████▊       | 1.1MB 2.8MB/s eta 0:00:01\r\u001b[K     |█████████████████████████       | 1.1MB 2.8MB/s eta 0:00:01\r\u001b[K     |█████████████████████████▏      | 1.1MB 2.8MB/s eta 0:00:01\r\u001b[K     |█████████████████████████▍      | 1.1MB 2.8MB/s eta 0:00:01\r\u001b[K     |█████████████████████████▋      | 1.1MB 2.8MB/s eta 0:00:01\r\u001b[K     |█████████████████████████▉      | 1.2MB 2.8MB/s eta 0:00:01\r\u001b[K     |██████████████████████████      | 1.2MB 2.8MB/s eta 0:00:01\r\u001b[K     |██████████████████████████▎     | 1.2MB 2.8MB/s eta 0:00:01\r\u001b[K     |██████████████████████████▌     | 1.2MB 2.8MB/s eta 0:00:01\r\u001b[K     |██████████████████████████▊     | 1.2MB 2.8MB/s eta 0:00:01\r\u001b[K     |███████████████████████████     | 1.2MB 2.8MB/s eta 0:00:01\r\u001b[K     |███████████████████████████▏    | 1.2MB 2.8MB/s eta 0:00:01\r\u001b[K     |███████████████████████████▍    | 1.2MB 2.8MB/s eta 0:00:01\r\u001b[K     |███████████████████████████▋    | 1.2MB 2.8MB/s eta 0:00:01\r\u001b[K     |███████████████████████████▉    | 1.2MB 2.8MB/s eta 0:00:01\r\u001b[K     |████████████████████████████▏   | 1.3MB 2.8MB/s eta 0:00:01\r\u001b[K     |████████████████████████████▍   | 1.3MB 2.8MB/s eta 0:00:01\r\u001b[K     |████████████████████████████▋   | 1.3MB 2.8MB/s eta 0:00:01\r\u001b[K     |████████████████████████████▉   | 1.3MB 2.8MB/s eta 0:00:01\r\u001b[K     |█████████████████████████████   | 1.3MB 2.8MB/s eta 0:00:01\r\u001b[K     |█████████████████████████████▎  | 1.3MB 2.8MB/s eta 0:00:01\r\u001b[K     |█████████████████████████████▌  | 1.3MB 2.8MB/s eta 0:00:01\r\u001b[K     |█████████████████████████████▊  | 1.3MB 2.8MB/s eta 0:00:01\r\u001b[K     |██████████████████████████████  | 1.3MB 2.8MB/s eta 0:00:01\r\u001b[K     |██████████████████████████████▏ | 1.4MB 2.8MB/s eta 0:00:01\r\u001b[K     |██████████████████████████████▍ | 1.4MB 2.8MB/s eta 0:00:01\r\u001b[K     |██████████████████████████████▋ | 1.4MB 2.8MB/s eta 0:00:01\r\u001b[K     |██████████████████████████████▉ | 1.4MB 2.8MB/s eta 0:00:01\r\u001b[K     |███████████████████████████████ | 1.4MB 2.8MB/s eta 0:00:01\r\u001b[K     |███████████████████████████████▎| 1.4MB 2.8MB/s eta 0:00:01\r\u001b[K     |███████████████████████████████▌| 1.4MB 2.8MB/s eta 0:00:01\r\u001b[K     |███████████████████████████████▊| 1.4MB 2.8MB/s eta 0:00:01\r\u001b[K     |████████████████████████████████| 1.4MB 2.8MB/s \n",
            "\u001b[?25hRequirement already satisfied: click in /usr/local/lib/python3.6/dist-packages (from nltk==3.5) (7.1.2)\n",
            "Requirement already satisfied: joblib in /usr/local/lib/python3.6/dist-packages (from nltk==3.5) (0.15.1)\n",
            "Requirement already satisfied: regex in /usr/local/lib/python3.6/dist-packages (from nltk==3.5) (2019.12.20)\n",
            "Requirement already satisfied: tqdm in /usr/local/lib/python3.6/dist-packages (from nltk==3.5) (4.41.1)\n",
            "Building wheels for collected packages: nltk\n",
            "  Building wheel for nltk (setup.py) ... \u001b[?25l\u001b[?25hdone\n",
            "  Created wheel for nltk: filename=nltk-3.5-cp36-none-any.whl size=1434674 sha256=beaad99aa864ce207582d029bd56c6d3a66da16ec492f2f59394bfa37f8c710c\n",
            "  Stored in directory: /root/.cache/pip/wheels/ae/8c/3f/b1fe0ba04555b08b57ab52ab7f86023639a526d8bc8d384306\n",
            "Successfully built nltk\n",
            "Installing collected packages: nltk\n",
            "  Found existing installation: nltk 3.2.5\n",
            "    Uninstalling nltk-3.2.5:\n",
            "      Successfully uninstalled nltk-3.2.5\n",
            "Successfully installed nltk-3.5\n"
          ],
          "name": "stdout"
        },
        {
          "output_type": "display_data",
          "data": {
            "application/vnd.colab-display-data+json": {
              "pip_warning": {
                "packages": [
                  "nltk"
                ]
              }
            }
          },
          "metadata": {
            "tags": []
          }
        }
      ]
    },
    {
      "cell_type": "code",
      "metadata": {
        "id": "dmAYumn4VJrH",
        "colab_type": "code",
        "outputId": "cde902c6-9ba4-4d15-9ed1-af6f858ee0f8",
        "colab": {
          "base_uri": "https://localhost:8080/",
          "height": 68
        }
      },
      "source": [
        "import nltk\n",
        "nltk.download('wordnet')\n",
        "from nltk.translate.meteor_score import meteor_score\n",
        "  \n",
        "meteor = meteor_score(test_descriptions[0], generated)\n",
        "meteor"
      ],
      "execution_count": 37,
      "outputs": [
        {
          "output_type": "stream",
          "text": [
            "[nltk_data] Downloading package wordnet to /root/nltk_data...\n",
            "[nltk_data]   Package wordnet is already up-to-date!\n"
          ],
          "name": "stderr"
        },
        {
          "output_type": "execute_result",
          "data": {
            "text/plain": [
              "0.2312138728323699"
            ]
          },
          "metadata": {
            "tags": []
          },
          "execution_count": 37
        }
      ]
    },
    {
      "cell_type": "code",
      "metadata": {
        "id": "gsIDBgaIXRuR",
        "colab_type": "code",
        "colab": {}
      },
      "source": [
        ""
      ],
      "execution_count": 0,
      "outputs": []
    },
    {
      "cell_type": "markdown",
      "metadata": {
        "id": "QyBE4e6FXVEI",
        "colab_type": "text"
      },
      "source": [
        "### 4. CIDEr"
      ]
    },
    {
      "cell_type": "code",
      "metadata": {
        "id": "fM0uaLswXuvw",
        "colab_type": "code",
        "colab": {}
      },
      "source": [
        "# it seems like CideR is computed using all the training images\n",
        "\n",
        "# python repo : https://github.com/vrama91/cider\n",
        "\n",
        "# paper : https://www.cv-foundation.org/openaccess/content_cvpr_2015/papers/Vedantam_CIDEr_Consensus-Based_Image_2015_CVPR_paper.pdf"
      ],
      "execution_count": 0,
      "outputs": []
    },
    {
      "cell_type": "markdown",
      "metadata": {
        "id": "DFQDXwM0XvTG",
        "colab_type": "text"
      },
      "source": [
        "## 5. universal-sentence-encoder"
      ]
    },
    {
      "cell_type": "markdown",
      "metadata": {
        "id": "dFxJ4WUH9g3B",
        "colab_type": "text"
      },
      "source": [
        "Based on Shun's recommendation, see [here](https://tfhub.dev/google/universal-sentence-encoder-multilingual-large/3)"
      ]
    },
    {
      "cell_type": "code",
      "metadata": {
        "id": "P4Z2h1QfX3KB",
        "colab_type": "code",
        "colab": {}
      },
      "source": [
        "import tensorflow_hub as hub\n",
        "import numpy as np\n",
        "import tensorflow_text"
      ],
      "execution_count": 0,
      "outputs": []
    },
    {
      "cell_type": "code",
      "metadata": {
        "id": "EYGWUDJ70Fhi",
        "colab_type": "code",
        "outputId": "da7346e7-fd74-45ab-9fb6-1f2966ccb9db",
        "colab": {
          "base_uri": "https://localhost:8080/",
          "height": 751
        }
      },
      "source": [
        "!pip install tensorflow_text"
      ],
      "execution_count": 39,
      "outputs": [
        {
          "output_type": "stream",
          "text": [
            "Collecting tensorflow_text\n",
            "\u001b[?25l  Downloading https://files.pythonhosted.org/packages/78/e7/d260e51d44bea241e8eee39d0266df9b33a3d6219ded118a1c81a872e848/tensorflow_text-2.2.0-cp36-cp36m-manylinux1_x86_64.whl (3.0MB)\n",
            "\u001b[K     |████████████████████████████████| 3.0MB 2.8MB/s \n",
            "\u001b[?25hRequirement already satisfied: tensorflow<2.3,>=2.2.0 in /usr/local/lib/python3.6/dist-packages (from tensorflow_text) (2.2.0)\n",
            "Requirement already satisfied: opt-einsum>=2.3.2 in /usr/local/lib/python3.6/dist-packages (from tensorflow<2.3,>=2.2.0->tensorflow_text) (3.2.1)\n",
            "Requirement already satisfied: google-pasta>=0.1.8 in /usr/local/lib/python3.6/dist-packages (from tensorflow<2.3,>=2.2.0->tensorflow_text) (0.2.0)\n",
            "Requirement already satisfied: absl-py>=0.7.0 in /usr/local/lib/python3.6/dist-packages (from tensorflow<2.3,>=2.2.0->tensorflow_text) (0.9.0)\n",
            "Requirement already satisfied: keras-preprocessing>=1.1.0 in /usr/local/lib/python3.6/dist-packages (from tensorflow<2.3,>=2.2.0->tensorflow_text) (1.1.2)\n",
            "Requirement already satisfied: scipy==1.4.1; python_version >= \"3\" in /usr/local/lib/python3.6/dist-packages (from tensorflow<2.3,>=2.2.0->tensorflow_text) (1.4.1)\n",
            "Requirement already satisfied: gast==0.3.3 in /usr/local/lib/python3.6/dist-packages (from tensorflow<2.3,>=2.2.0->tensorflow_text) (0.3.3)\n",
            "Requirement already satisfied: tensorflow-estimator<2.3.0,>=2.2.0 in /usr/local/lib/python3.6/dist-packages (from tensorflow<2.3,>=2.2.0->tensorflow_text) (2.2.0)\n",
            "Requirement already satisfied: grpcio>=1.8.6 in /usr/local/lib/python3.6/dist-packages (from tensorflow<2.3,>=2.2.0->tensorflow_text) (1.29.0)\n",
            "Requirement already satisfied: h5py<2.11.0,>=2.10.0 in /usr/local/lib/python3.6/dist-packages (from tensorflow<2.3,>=2.2.0->tensorflow_text) (2.10.0)\n",
            "Requirement already satisfied: wheel>=0.26; python_version >= \"3\" in /usr/local/lib/python3.6/dist-packages (from tensorflow<2.3,>=2.2.0->tensorflow_text) (0.34.2)\n",
            "Requirement already satisfied: six>=1.12.0 in /usr/local/lib/python3.6/dist-packages (from tensorflow<2.3,>=2.2.0->tensorflow_text) (1.12.0)\n",
            "Requirement already satisfied: astunparse==1.6.3 in /usr/local/lib/python3.6/dist-packages (from tensorflow<2.3,>=2.2.0->tensorflow_text) (1.6.3)\n",
            "Requirement already satisfied: protobuf>=3.8.0 in /usr/local/lib/python3.6/dist-packages (from tensorflow<2.3,>=2.2.0->tensorflow_text) (3.10.0)\n",
            "Requirement already satisfied: numpy<2.0,>=1.16.0 in /usr/local/lib/python3.6/dist-packages (from tensorflow<2.3,>=2.2.0->tensorflow_text) (1.18.4)\n",
            "Requirement already satisfied: wrapt>=1.11.1 in /usr/local/lib/python3.6/dist-packages (from tensorflow<2.3,>=2.2.0->tensorflow_text) (1.12.1)\n",
            "Requirement already satisfied: termcolor>=1.1.0 in /usr/local/lib/python3.6/dist-packages (from tensorflow<2.3,>=2.2.0->tensorflow_text) (1.1.0)\n",
            "Requirement already satisfied: tensorboard<2.3.0,>=2.2.0 in /usr/local/lib/python3.6/dist-packages (from tensorflow<2.3,>=2.2.0->tensorflow_text) (2.2.1)\n",
            "Requirement already satisfied: setuptools in /usr/local/lib/python3.6/dist-packages (from protobuf>=3.8.0->tensorflow<2.3,>=2.2.0->tensorflow_text) (46.3.0)\n",
            "Requirement already satisfied: tensorboard-plugin-wit>=1.6.0 in /usr/local/lib/python3.6/dist-packages (from tensorboard<2.3.0,>=2.2.0->tensorflow<2.3,>=2.2.0->tensorflow_text) (1.6.0.post3)\n",
            "Requirement already satisfied: requests<3,>=2.21.0 in /usr/local/lib/python3.6/dist-packages (from tensorboard<2.3.0,>=2.2.0->tensorflow<2.3,>=2.2.0->tensorflow_text) (2.23.0)\n",
            "Requirement already satisfied: werkzeug>=0.11.15 in /usr/local/lib/python3.6/dist-packages (from tensorboard<2.3.0,>=2.2.0->tensorflow<2.3,>=2.2.0->tensorflow_text) (1.0.1)\n",
            "Requirement already satisfied: google-auth-oauthlib<0.5,>=0.4.1 in /usr/local/lib/python3.6/dist-packages (from tensorboard<2.3.0,>=2.2.0->tensorflow<2.3,>=2.2.0->tensorflow_text) (0.4.1)\n",
            "Requirement already satisfied: markdown>=2.6.8 in /usr/local/lib/python3.6/dist-packages (from tensorboard<2.3.0,>=2.2.0->tensorflow<2.3,>=2.2.0->tensorflow_text) (3.2.2)\n",
            "Requirement already satisfied: google-auth<2,>=1.6.3 in /usr/local/lib/python3.6/dist-packages (from tensorboard<2.3.0,>=2.2.0->tensorflow<2.3,>=2.2.0->tensorflow_text) (1.7.2)\n",
            "Requirement already satisfied: certifi>=2017.4.17 in /usr/local/lib/python3.6/dist-packages (from requests<3,>=2.21.0->tensorboard<2.3.0,>=2.2.0->tensorflow<2.3,>=2.2.0->tensorflow_text) (2020.4.5.1)\n",
            "Requirement already satisfied: urllib3!=1.25.0,!=1.25.1,<1.26,>=1.21.1 in /usr/local/lib/python3.6/dist-packages (from requests<3,>=2.21.0->tensorboard<2.3.0,>=2.2.0->tensorflow<2.3,>=2.2.0->tensorflow_text) (1.24.3)\n",
            "Requirement already satisfied: chardet<4,>=3.0.2 in /usr/local/lib/python3.6/dist-packages (from requests<3,>=2.21.0->tensorboard<2.3.0,>=2.2.0->tensorflow<2.3,>=2.2.0->tensorflow_text) (3.0.4)\n",
            "Requirement already satisfied: idna<3,>=2.5 in /usr/local/lib/python3.6/dist-packages (from requests<3,>=2.21.0->tensorboard<2.3.0,>=2.2.0->tensorflow<2.3,>=2.2.0->tensorflow_text) (2.9)\n",
            "Requirement already satisfied: requests-oauthlib>=0.7.0 in /usr/local/lib/python3.6/dist-packages (from google-auth-oauthlib<0.5,>=0.4.1->tensorboard<2.3.0,>=2.2.0->tensorflow<2.3,>=2.2.0->tensorflow_text) (1.3.0)\n",
            "Requirement already satisfied: importlib-metadata; python_version < \"3.8\" in /usr/local/lib/python3.6/dist-packages (from markdown>=2.6.8->tensorboard<2.3.0,>=2.2.0->tensorflow<2.3,>=2.2.0->tensorflow_text) (1.6.0)\n",
            "Requirement already satisfied: cachetools<3.2,>=2.0.0 in /usr/local/lib/python3.6/dist-packages (from google-auth<2,>=1.6.3->tensorboard<2.3.0,>=2.2.0->tensorflow<2.3,>=2.2.0->tensorflow_text) (3.1.1)\n",
            "Requirement already satisfied: pyasn1-modules>=0.2.1 in /usr/local/lib/python3.6/dist-packages (from google-auth<2,>=1.6.3->tensorboard<2.3.0,>=2.2.0->tensorflow<2.3,>=2.2.0->tensorflow_text) (0.2.8)\n",
            "Requirement already satisfied: rsa<4.1,>=3.1.4 in /usr/local/lib/python3.6/dist-packages (from google-auth<2,>=1.6.3->tensorboard<2.3.0,>=2.2.0->tensorflow<2.3,>=2.2.0->tensorflow_text) (4.0)\n",
            "Requirement already satisfied: oauthlib>=3.0.0 in /usr/local/lib/python3.6/dist-packages (from requests-oauthlib>=0.7.0->google-auth-oauthlib<0.5,>=0.4.1->tensorboard<2.3.0,>=2.2.0->tensorflow<2.3,>=2.2.0->tensorflow_text) (3.1.0)\n",
            "Requirement already satisfied: zipp>=0.5 in /usr/local/lib/python3.6/dist-packages (from importlib-metadata; python_version < \"3.8\"->markdown>=2.6.8->tensorboard<2.3.0,>=2.2.0->tensorflow<2.3,>=2.2.0->tensorflow_text) (3.1.0)\n",
            "Requirement already satisfied: pyasn1<0.5.0,>=0.4.6 in /usr/local/lib/python3.6/dist-packages (from pyasn1-modules>=0.2.1->google-auth<2,>=1.6.3->tensorboard<2.3.0,>=2.2.0->tensorflow<2.3,>=2.2.0->tensorflow_text) (0.4.8)\n",
            "Installing collected packages: tensorflow-text\n",
            "Successfully installed tensorflow-text-2.2.0\n"
          ],
          "name": "stdout"
        }
      ]
    },
    {
      "cell_type": "code",
      "metadata": {
        "id": "L2VZXJQWaYKA",
        "colab_type": "code",
        "colab": {}
      },
      "source": [
        "embed = hub.load(\"https://tfhub.dev/google/universal-sentence-encoder-multilingual-large/3\")"
      ],
      "execution_count": 0,
      "outputs": []
    },
    {
      "cell_type": "code",
      "metadata": {
        "id": "xGVfdza4ag6d",
        "colab_type": "code",
        "colab": {}
      },
      "source": [
        "# Compute embeddings.\n",
        "similarity_list = []\n",
        "hyp_result = embed(generated)\n",
        "\n",
        "# Compute similarity matrix. Higher score indicates greater similarity.\n",
        "for caption in test_descriptions[0]:\n",
        "  ref_result = embed(caption)\n",
        "  similarity_matrix_it = np.inner(ref_result, hyp_result)\n",
        "  similarity_list.append(similarity_matrix_it)"
      ],
      "execution_count": 0,
      "outputs": []
    },
    {
      "cell_type": "code",
      "metadata": {
        "id": "HdkwBTJ1atyS",
        "colab_type": "code",
        "outputId": "4f47efb9-acf3-49f3-9c65-c5ebcd7c1b3f",
        "colab": {
          "base_uri": "https://localhost:8080/",
          "height": 34
        }
      },
      "source": [
        "avg_similarity = (sum(similarity_list)/len(similarity_list))[0][0]\n",
        "avg_similarity"
      ],
      "execution_count": 43,
      "outputs": [
        {
          "output_type": "execute_result",
          "data": {
            "text/plain": [
              "0.47760648"
            ]
          },
          "metadata": {
            "tags": []
          },
          "execution_count": 43
        }
      ]
    },
    {
      "cell_type": "code",
      "metadata": {
        "id": "m9HpJfmma1Oo",
        "colab_type": "code",
        "outputId": "3a9537ce-d03c-4cdb-804a-60a538f90305",
        "colab": {
          "base_uri": "https://localhost:8080/",
          "height": 80
        }
      },
      "source": [
        "### 6. Summary metric\n",
        "results = pd.DataFrame({\"bleu-1\": b1,\n",
        "              \"bleu-2\": b2,\n",
        "              \"bleu-3\": b3,\n",
        "              \"bleu-4\": b4,\n",
        "              \"rouge-l\": rouge_l_f1,\n",
        "              \"meteor\": meteor,\n",
        "              \"CIDEr\": \"NA\",\n",
        "              \"Universal-sentence-encoder similarity\": avg_similarity}, index = [pic])\n",
        "\n",
        "results"
      ],
      "execution_count": 44,
      "outputs": [
        {
          "output_type": "execute_result",
          "data": {
            "text/html": [
              "<div>\n",
              "<style scoped>\n",
              "    .dataframe tbody tr th:only-of-type {\n",
              "        vertical-align: middle;\n",
              "    }\n",
              "\n",
              "    .dataframe tbody tr th {\n",
              "        vertical-align: top;\n",
              "    }\n",
              "\n",
              "    .dataframe thead th {\n",
              "        text-align: right;\n",
              "    }\n",
              "</style>\n",
              "<table border=\"1\" class=\"dataframe\">\n",
              "  <thead>\n",
              "    <tr style=\"text-align: right;\">\n",
              "      <th></th>\n",
              "      <th>bleu-1</th>\n",
              "      <th>bleu-2</th>\n",
              "      <th>bleu-3</th>\n",
              "      <th>bleu-4</th>\n",
              "      <th>rouge-l</th>\n",
              "      <th>meteor</th>\n",
              "      <th>CIDEr</th>\n",
              "      <th>Universal-sentence-encoder similarity</th>\n",
              "    </tr>\n",
              "  </thead>\n",
              "  <tbody>\n",
              "    <tr>\n",
              "      <th>/content/drive/My Drive/mda/rsicd/park_3.jpg</th>\n",
              "      <td>0.4</td>\n",
              "      <td>0.145095</td>\n",
              "      <td>8.342856e-103</td>\n",
              "      <td>5.681968e-155</td>\n",
              "      <td>0.16</td>\n",
              "      <td>0.231214</td>\n",
              "      <td>NA</td>\n",
              "      <td>0.477606</td>\n",
              "    </tr>\n",
              "  </tbody>\n",
              "</table>\n",
              "</div>"
            ],
            "text/plain": [
              "                                              bleu-1  ...  Universal-sentence-encoder similarity\n",
              "/content/drive/My Drive/mda/rsicd/park_3.jpg     0.4  ...                               0.477606\n",
              "\n",
              "[1 rows x 8 columns]"
            ]
          },
          "metadata": {
            "tags": []
          },
          "execution_count": 44
        }
      ]
    },
    {
      "cell_type": "code",
      "metadata": {
        "id": "LyyIR1YtzKXM",
        "colab_type": "code",
        "colab": {}
      },
      "source": [
        ""
      ],
      "execution_count": 0,
      "outputs": []
    }
  ]
}