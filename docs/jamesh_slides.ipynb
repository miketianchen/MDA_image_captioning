{
 "cells": [
  {
   "cell_type": "markdown",
   "metadata": {
    "slideshow": {
     "slide_type": "slide"
    }
   },
   "source": [
    "## Image Captioning of Earth Observation Imagery\n",
    "\n",
    "## An MDS-MDA Joint Capstone Project\n",
    "\n",
    "\n",
    "<img src=\"../imgs/mda.png\" alt=\"drawing\" style=\"width:600px;\"/>\n",
    "\n",
    "#### Dora Qian, Fanli Zhou, James Huang, Mike Chen"
   ]
  },
  {
   "cell_type": "markdown",
   "metadata": {
    "slideshow": {
     "slide_type": "slide"
    }
   },
   "source": [
    "## MDA\n",
    "#### A Canadian Aerospace Company\n",
    "\n",
    "+ Developed Canadarm and Canadarm-2 on the ISS\n",
    "\n",
    "<img src=\"../imgs/canadarm.jpg\" alt=\"drawing\" style=\"width:800px;\"/>"
   ]
  },
  {
   "cell_type": "markdown",
   "metadata": {
    "slideshow": {
     "slide_type": "slide"
    }
   },
   "source": [
    "## MDA\n",
    "\n",
    "+ Access to a vast database of satellite images\n",
    "\n",
    "<img src=\"../imgs/505.png\" alt=\"drawing\" style=\"width:400px;\"/>"
   ]
  },
  {
   "cell_type": "markdown",
   "metadata": {
    "slideshow": {
     "slide_type": "slide"
    }
   },
   "source": [
    "# The problem\n",
    "\n",
    "+ These images are uncaptioned\n",
    "    + Without captions, these images are difficult and computationally costly to work with\n",
    "+ Technology of captioning satellite images is less mature than \"traditional\" ImageNet type photographs\n",
    "+ Due the nature of these photographs, the model cannot be effectively trained on other types of images.\n",
    "    + Knowledge transfer is less effective\n",
    "    + Limited existing resources to train the model"
   ]
  },
  {
   "cell_type": "markdown",
   "metadata": {
    "slideshow": {
     "slide_type": "slide"
    }
   },
   "source": [
    "# Image Captioning: Motivation and Purpose\n",
    "\n",
    "+ Associating an image with a caption makes it much more accessible:\n",
    "\n",
    "    + Tag and sort images based on content\n",
    "\n",
    "    + Return search queries\n",
    "    \n",
    "    + Evaluate image similarity\n",
    "    \n",
    "    + Downstream applications\n"
   ]
  },
  {
   "cell_type": "markdown",
   "metadata": {
    "slideshow": {
     "slide_type": "slide"
    }
   },
   "source": [
    "# Breaking the Problem Down\n",
    "\n",
    "+ Establish database of images and captions\n",
    "+ Train, validate, and test on public, captioned satellite images\n",
    "     + Several different datasets\n",
    "     + Assess cross dataset performance\n",
    "+ Final manual evaluation on uncaptioned MDA images"
   ]
  }
 ],
 "metadata": {
  "celltoolbar": "Slideshow",
  "kernelspec": {
   "display_name": "Python 3",
   "language": "python",
   "name": "python3"
  },
  "language_info": {
   "codemirror_mode": {
    "name": "ipython",
    "version": 3
   },
   "file_extension": ".py",
   "mimetype": "text/x-python",
   "name": "python",
   "nbconvert_exporter": "python",
   "pygments_lexer": "ipython3",
   "version": "3.7.6"
  }
 },
 "nbformat": 4,
 "nbformat_minor": 4
}
