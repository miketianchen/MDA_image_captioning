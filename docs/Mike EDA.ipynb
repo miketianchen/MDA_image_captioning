{
 "cells": [
  {
   "cell_type": "markdown",
   "metadata": {
    "slideshow": {
     "slide_type": "slide"
    }
   },
   "source": [
    "There are three labeled datasets:\n",
    "> UCM_captions \n",
    ">\n",
    "> Sydney_captions\n",
    ">\n",
    "> RSICD (Remote Sensing Imaging Captioning Dataset)"
   ]
  },
  {
   "cell_type": "markdown",
   "metadata": {
    "slideshow": {
     "slide_type": "slide"
    }
   },
   "source": [
    "### UCM_captions\n",
    "\n",
    "<font size=\"2\">- 21 Different Classes of Images</font>\n",
    "<font size=\"2\">- 2100 Different Images </font>\n",
    "<font size=\"2\">- 256 X 256 Pixels </font>\n",
    "<font size=\"2\">- .tif Format </font>\n",
    "\n",
    "\n",
    "<font size=\"2\">Example Captions: - \"Here is a piece of farmland .\" </font>\n",
    "<font size=\"2\">- \"It is a piece of cropland .\" </font>\n",
    "<font size=\"2\">- \"This is a beach with blue sea and white sands .\" </font>\n",
    "<font size=\"2\">- \"A dense forest with lots of green plants\" </font>\n",
    "\n",
    "\n",
    "<table><tr><td><img src='../imgs/ucm_1.jpg' width=\"200\" height=\"80\"></td><td><img src='../imgs/ucm_2.jpg' width=\"200\" height=\"80\"></td></tr></table>\n",
    "\n",
    "<table><tr><td><img src='../imgs/ucm_3.jpg' width=\"200\" height=\"80\"></td><td><img src='../imgs/ucm_4.jpg' width=\"200\" height=\"80\"></td></tr></table>"
   ]
  },
  {
   "cell_type": "markdown",
   "metadata": {
    "slideshow": {
     "slide_type": "slide"
    }
   },
   "source": [
    "### Sydney_captions\n",
    "\n",
    "<font size=\"2\">- 7 Different Classes of Images</font>\n",
    "<font size=\"2\">- 613 Different Images </font>\n",
    "<font size=\"2\">- 500 X 500 Pixels </font>\n",
    "<font size=\"2\">- .tif Format </font>\n",
    "\n",
    "\n",
    "<font size=\"2\">Example Captions: - \"A residential area with houses arranged neatly while some roads and railways go through .\"</font>\n",
    "\n",
    "<table><tr><td><img src='../imgs/sydney_1.jpg' width=\"200\" height=\"30\"></td><td><img src='../imgs/sydney_2.jpg' width=\"200\" height=\"30\"></td></tr></table>\n",
    "\n",
    "<table><tr><td><img src='../imgs/sydney_3.jpg' width=\"200\" height=\"30\"></td><td><img src='../imgs/syndey_4.jpg' width=\"200\" height=\"30\"></td></tr></table>"
   ]
  },
  {
   "cell_type": "markdown",
   "metadata": {
    "slideshow": {
     "slide_type": "slide"
    }
   },
   "source": [
    "### RSICD (Remote Sensing Imaging Captioning Dataset)\n",
    "\n",
    "<font size=\"2\">- 10,922 Different Images </font>\n",
    "<font size=\"2\">- 224 X 224 Pixels </font>\n",
    "<font size=\"2\">- .jpg Format </font>\n",
    "\n",
    "<table><tr><td><img src='../imgs/rsicd_1.jpg' width=\"200\" height=\"80\"></td><td><img src='../imgs/rsicd_2.jpg' width=\"200\" height=\"80\"></td></tr></table>\n",
    "\n",
    "<table><tr><td><img src='../imgs/rsicd_3.jpg' width=\"200\" height=\"80\"></td><td><img src='../imgs/rsicd_4.jpg' width=\"200\" height=\"80\"></td></tr></table>"
   ]
  },
  {
   "cell_type": "markdown",
   "metadata": {
    "slideshow": {
     "slide_type": "slide"
    }
   },
   "source": [
    "### RSICD Caption Example\n",
    "\n",
    "![](../imgs/rsicd_caption.png)"
   ]
  },
  {
   "cell_type": "code",
   "execution_count": 27,
   "metadata": {},
   "outputs": [],
   "source": [
    "import json \n",
    "import pandas as pd \n",
    "from pandas.io.json import json_normalize #package for flattening json in pandas df"
   ]
  },
  {
   "cell_type": "code",
   "execution_count": 24,
   "metadata": {},
   "outputs": [],
   "source": [
    "df = pd.read_json('dataset_ucm_modified.json')"
   ]
  },
  {
   "cell_type": "code",
   "execution_count": 29,
   "metadata": {},
   "outputs": [
    {
     "name": "stderr",
     "output_type": "stream",
     "text": [
      "//anaconda3/lib/python3.7/site-packages/ipykernel_launcher.py:8: FutureWarning: pandas.io.json.json_normalize is deprecated, use pandas.json_normalize instead\n",
      "  \n"
     ]
    }
   ],
   "source": [
    "#load json object\n",
    "with open('../presentation/dataset_ucm_modified.json') as f:\n",
    "    d = json.load(f)\n",
    "\n",
    "#lets put the data into a pandas df\n",
    "#clicking on raw_nyc_phil.json under \"Input Files\"\n",
    "#tells us parent node is 'programs'\n",
    "umc_df = json_normalize(d['images'])"
   ]
  },
  {
   "cell_type": "code",
   "execution_count": 31,
   "metadata": {},
   "outputs": [
    {
     "name": "stderr",
     "output_type": "stream",
     "text": [
      "//anaconda3/lib/python3.7/site-packages/ipykernel_launcher.py:2: FutureWarning: pandas.io.json.json_normalize is deprecated, use pandas.json_normalize instead\n",
      "  \n"
     ]
    },
    {
     "ename": "KeyError",
     "evalue": "\"Try running with errors='ignore' as key 'tokens' is not always present\"",
     "output_type": "error",
     "traceback": [
      "\u001b[0;31m---------------------------------------------------------------------------\u001b[0m",
      "\u001b[0;31mKeyError\u001b[0m                                  Traceback (most recent call last)",
      "\u001b[0;32m//anaconda3/lib/python3.7/site-packages/pandas/io/json/_normalize.py\u001b[0m in \u001b[0;36m_recursive_extract\u001b[0;34m(data, path, seen_meta, level)\u001b[0m\n\u001b[1;32m    313\u001b[0m                         \u001b[0;32mtry\u001b[0m\u001b[0;34m:\u001b[0m\u001b[0;34m\u001b[0m\u001b[0;34m\u001b[0m\u001b[0m\n\u001b[0;32m--> 314\u001b[0;31m                             \u001b[0mmeta_val\u001b[0m \u001b[0;34m=\u001b[0m \u001b[0m_pull_field\u001b[0m\u001b[0;34m(\u001b[0m\u001b[0mobj\u001b[0m\u001b[0;34m,\u001b[0m \u001b[0mval\u001b[0m\u001b[0;34m[\u001b[0m\u001b[0mlevel\u001b[0m\u001b[0;34m:\u001b[0m\u001b[0;34m]\u001b[0m\u001b[0;34m)\u001b[0m\u001b[0;34m\u001b[0m\u001b[0;34m\u001b[0m\u001b[0m\n\u001b[0m\u001b[1;32m    315\u001b[0m                         \u001b[0;32mexcept\u001b[0m \u001b[0mKeyError\u001b[0m \u001b[0;32mas\u001b[0m \u001b[0me\u001b[0m\u001b[0;34m:\u001b[0m\u001b[0;34m\u001b[0m\u001b[0;34m\u001b[0m\u001b[0m\n",
      "\u001b[0;32m//anaconda3/lib/python3.7/site-packages/pandas/io/json/_normalize.py\u001b[0m in \u001b[0;36m_pull_field\u001b[0;34m(js, spec)\u001b[0m\n\u001b[1;32m    236\u001b[0m             \u001b[0;32mfor\u001b[0m \u001b[0mfield\u001b[0m \u001b[0;32min\u001b[0m \u001b[0mspec\u001b[0m\u001b[0;34m:\u001b[0m\u001b[0;34m\u001b[0m\u001b[0;34m\u001b[0m\u001b[0m\n\u001b[0;32m--> 237\u001b[0;31m                 \u001b[0mresult\u001b[0m \u001b[0;34m=\u001b[0m \u001b[0mresult\u001b[0m\u001b[0;34m[\u001b[0m\u001b[0mfield\u001b[0m\u001b[0;34m]\u001b[0m\u001b[0;34m\u001b[0m\u001b[0;34m\u001b[0m\u001b[0m\n\u001b[0m\u001b[1;32m    238\u001b[0m         \u001b[0;32melse\u001b[0m\u001b[0;34m:\u001b[0m\u001b[0;34m\u001b[0m\u001b[0;34m\u001b[0m\u001b[0m\n",
      "\u001b[0;31mKeyError\u001b[0m: 'tokens'",
      "\nDuring handling of the above exception, another exception occurred:\n",
      "\u001b[0;31mKeyError\u001b[0m                                  Traceback (most recent call last)",
      "\u001b[0;32m<ipython-input-31-53638a554960>\u001b[0m in \u001b[0;36m<module>\u001b[0;34m\u001b[0m\n\u001b[1;32m      1\u001b[0m works_data = json_normalize(data=d['images'], record_path='sentences', \n\u001b[0;32m----> 2\u001b[0;31m                             meta=['tokens', 'raw','imgid', 'sentid'])\n\u001b[0m",
      "\u001b[0;32m//anaconda3/lib/python3.7/site-packages/pandas/util/_decorators.py\u001b[0m in \u001b[0;36mwrapper\u001b[0;34m(*args, **kwargs)\u001b[0m\n\u001b[1;32m     64\u001b[0m     \u001b[0;32mdef\u001b[0m \u001b[0mwrapper\u001b[0m\u001b[0;34m(\u001b[0m\u001b[0;34m*\u001b[0m\u001b[0margs\u001b[0m\u001b[0;34m,\u001b[0m \u001b[0;34m**\u001b[0m\u001b[0mkwargs\u001b[0m\u001b[0;34m)\u001b[0m \u001b[0;34m->\u001b[0m \u001b[0mCallable\u001b[0m\u001b[0;34m[\u001b[0m\u001b[0;34m...\u001b[0m\u001b[0;34m,\u001b[0m \u001b[0mAny\u001b[0m\u001b[0;34m]\u001b[0m\u001b[0;34m:\u001b[0m\u001b[0;34m\u001b[0m\u001b[0;34m\u001b[0m\u001b[0m\n\u001b[1;32m     65\u001b[0m         \u001b[0mwarnings\u001b[0m\u001b[0;34m.\u001b[0m\u001b[0mwarn\u001b[0m\u001b[0;34m(\u001b[0m\u001b[0mwarning_msg\u001b[0m\u001b[0;34m,\u001b[0m \u001b[0mklass\u001b[0m\u001b[0;34m,\u001b[0m \u001b[0mstacklevel\u001b[0m\u001b[0;34m=\u001b[0m\u001b[0mstacklevel\u001b[0m\u001b[0;34m)\u001b[0m\u001b[0;34m\u001b[0m\u001b[0;34m\u001b[0m\u001b[0m\n\u001b[0;32m---> 66\u001b[0;31m         \u001b[0;32mreturn\u001b[0m \u001b[0malternative\u001b[0m\u001b[0;34m(\u001b[0m\u001b[0;34m*\u001b[0m\u001b[0margs\u001b[0m\u001b[0;34m,\u001b[0m \u001b[0;34m**\u001b[0m\u001b[0mkwargs\u001b[0m\u001b[0;34m)\u001b[0m\u001b[0;34m\u001b[0m\u001b[0;34m\u001b[0m\u001b[0m\n\u001b[0m\u001b[1;32m     67\u001b[0m \u001b[0;34m\u001b[0m\u001b[0m\n\u001b[1;32m     68\u001b[0m     \u001b[0;31m# adding deprecated directive to the docstring\u001b[0m\u001b[0;34m\u001b[0m\u001b[0;34m\u001b[0m\u001b[0;34m\u001b[0m\u001b[0m\n",
      "\u001b[0;32m//anaconda3/lib/python3.7/site-packages/pandas/io/json/_normalize.py\u001b[0m in \u001b[0;36m_json_normalize\u001b[0;34m(data, record_path, meta, meta_prefix, record_prefix, errors, sep, max_level)\u001b[0m\n\u001b[1;32m    325\u001b[0m                 \u001b[0mrecords\u001b[0m\u001b[0;34m.\u001b[0m\u001b[0mextend\u001b[0m\u001b[0;34m(\u001b[0m\u001b[0mrecs\u001b[0m\u001b[0;34m)\u001b[0m\u001b[0;34m\u001b[0m\u001b[0;34m\u001b[0m\u001b[0m\n\u001b[1;32m    326\u001b[0m \u001b[0;34m\u001b[0m\u001b[0m\n\u001b[0;32m--> 327\u001b[0;31m     \u001b[0m_recursive_extract\u001b[0m\u001b[0;34m(\u001b[0m\u001b[0mdata\u001b[0m\u001b[0;34m,\u001b[0m \u001b[0mrecord_path\u001b[0m\u001b[0;34m,\u001b[0m \u001b[0;34m{\u001b[0m\u001b[0;34m}\u001b[0m\u001b[0;34m,\u001b[0m \u001b[0mlevel\u001b[0m\u001b[0;34m=\u001b[0m\u001b[0;36m0\u001b[0m\u001b[0;34m)\u001b[0m\u001b[0;34m\u001b[0m\u001b[0;34m\u001b[0m\u001b[0m\n\u001b[0m\u001b[1;32m    328\u001b[0m \u001b[0;34m\u001b[0m\u001b[0m\n\u001b[1;32m    329\u001b[0m     \u001b[0mresult\u001b[0m \u001b[0;34m=\u001b[0m \u001b[0mDataFrame\u001b[0m\u001b[0;34m(\u001b[0m\u001b[0mrecords\u001b[0m\u001b[0;34m)\u001b[0m\u001b[0;34m\u001b[0m\u001b[0;34m\u001b[0m\u001b[0m\n",
      "\u001b[0;32m//anaconda3/lib/python3.7/site-packages/pandas/io/json/_normalize.py\u001b[0m in \u001b[0;36m_recursive_extract\u001b[0;34m(data, path, seen_meta, level)\u001b[0m\n\u001b[1;32m    318\u001b[0m                             \u001b[0;32melse\u001b[0m\u001b[0;34m:\u001b[0m\u001b[0;34m\u001b[0m\u001b[0;34m\u001b[0m\u001b[0m\n\u001b[1;32m    319\u001b[0m                                 raise KeyError(\n\u001b[0;32m--> 320\u001b[0;31m                                     \u001b[0;34m\"Try running with \"\u001b[0m\u001b[0;34m\u001b[0m\u001b[0;34m\u001b[0m\u001b[0m\n\u001b[0m\u001b[1;32m    321\u001b[0m                                     \u001b[0;34m\"errors='ignore' as key \"\u001b[0m\u001b[0;34m\u001b[0m\u001b[0;34m\u001b[0m\u001b[0m\n\u001b[1;32m    322\u001b[0m                                     \u001b[0;34mf\"{e} is not always present\"\u001b[0m\u001b[0;34m\u001b[0m\u001b[0;34m\u001b[0m\u001b[0m\n",
      "\u001b[0;31mKeyError\u001b[0m: \"Try running with errors='ignore' as key 'tokens' is not always present\""
     ]
    }
   ],
   "source": [
    "works_data = json_normalize(data=d['images'], record_path='sentences', \n",
    "                            meta=['tokens', 'raw','imgid', 'sentid'])"
   ]
  },
  {
   "cell_type": "code",
   "execution_count": 32,
   "metadata": {},
   "outputs": [
    {
     "data": {
      "text/html": [
       "<div>\n",
       "<style scoped>\n",
       "    .dataframe tbody tr th:only-of-type {\n",
       "        vertical-align: middle;\n",
       "    }\n",
       "\n",
       "    .dataframe tbody tr th {\n",
       "        vertical-align: top;\n",
       "    }\n",
       "\n",
       "    .dataframe thead th {\n",
       "        text-align: right;\n",
       "    }\n",
       "</style>\n",
       "<table border=\"1\" class=\"dataframe\">\n",
       "  <thead>\n",
       "    <tr style=\"text-align: right;\">\n",
       "      <th></th>\n",
       "      <th>images</th>\n",
       "      <th>dataset</th>\n",
       "    </tr>\n",
       "  </thead>\n",
       "  <tbody>\n",
       "    <tr>\n",
       "      <th>0</th>\n",
       "      <td>{'sentids': [0, 1, 2, 3, 4], 'imgid': 0, 'sent...</td>\n",
       "      <td>UCM</td>\n",
       "    </tr>\n",
       "    <tr>\n",
       "      <th>1</th>\n",
       "      <td>{'sentids': [5, 6, 7, 8, 9], 'imgid': 1, 'sent...</td>\n",
       "      <td>UCM</td>\n",
       "    </tr>\n",
       "    <tr>\n",
       "      <th>2</th>\n",
       "      <td>{'sentids': [10, 11, 12, 13, 14], 'imgid': 2, ...</td>\n",
       "      <td>UCM</td>\n",
       "    </tr>\n",
       "    <tr>\n",
       "      <th>3</th>\n",
       "      <td>{'sentids': [15, 16, 17, 18, 19], 'imgid': 3, ...</td>\n",
       "      <td>UCM</td>\n",
       "    </tr>\n",
       "    <tr>\n",
       "      <th>4</th>\n",
       "      <td>{'sentids': [20, 21, 22, 23, 24], 'imgid': 4, ...</td>\n",
       "      <td>UCM</td>\n",
       "    </tr>\n",
       "    <tr>\n",
       "      <th>...</th>\n",
       "      <td>...</td>\n",
       "      <td>...</td>\n",
       "    </tr>\n",
       "    <tr>\n",
       "      <th>2095</th>\n",
       "      <td>{'sentids': [10475, 10476, 10477, 10478, 10479...</td>\n",
       "      <td>UCM</td>\n",
       "    </tr>\n",
       "    <tr>\n",
       "      <th>2096</th>\n",
       "      <td>{'sentids': [10480, 10481, 10482, 10483, 10484...</td>\n",
       "      <td>UCM</td>\n",
       "    </tr>\n",
       "    <tr>\n",
       "      <th>2097</th>\n",
       "      <td>{'sentids': [10485, 10486, 10487, 10488, 10489...</td>\n",
       "      <td>UCM</td>\n",
       "    </tr>\n",
       "    <tr>\n",
       "      <th>2098</th>\n",
       "      <td>{'sentids': [10490, 10491, 10492, 10493, 10494...</td>\n",
       "      <td>UCM</td>\n",
       "    </tr>\n",
       "    <tr>\n",
       "      <th>2099</th>\n",
       "      <td>{'sentids': [10495, 10496, 10497, 10498, 10499...</td>\n",
       "      <td>UCM</td>\n",
       "    </tr>\n",
       "  </tbody>\n",
       "</table>\n",
       "<p>2100 rows × 2 columns</p>\n",
       "</div>"
      ],
      "text/plain": [
       "                                                 images dataset\n",
       "0     {'sentids': [0, 1, 2, 3, 4], 'imgid': 0, 'sent...     UCM\n",
       "1     {'sentids': [5, 6, 7, 8, 9], 'imgid': 1, 'sent...     UCM\n",
       "2     {'sentids': [10, 11, 12, 13, 14], 'imgid': 2, ...     UCM\n",
       "3     {'sentids': [15, 16, 17, 18, 19], 'imgid': 3, ...     UCM\n",
       "4     {'sentids': [20, 21, 22, 23, 24], 'imgid': 4, ...     UCM\n",
       "...                                                 ...     ...\n",
       "2095  {'sentids': [10475, 10476, 10477, 10478, 10479...     UCM\n",
       "2096  {'sentids': [10480, 10481, 10482, 10483, 10484...     UCM\n",
       "2097  {'sentids': [10485, 10486, 10487, 10488, 10489...     UCM\n",
       "2098  {'sentids': [10490, 10491, 10492, 10493, 10494...     UCM\n",
       "2099  {'sentids': [10495, 10496, 10497, 10498, 10499...     UCM\n",
       "\n",
       "[2100 rows x 2 columns]"
      ]
     },
     "execution_count": 32,
     "metadata": {},
     "output_type": "execute_result"
    }
   ],
   "source": [
    "df"
   ]
  },
  {
   "cell_type": "code",
   "execution_count": 40,
   "metadata": {},
   "outputs": [
    {
     "data": {
      "text/html": [
       "<div>\n",
       "<style scoped>\n",
       "    .dataframe tbody tr th:only-of-type {\n",
       "        vertical-align: middle;\n",
       "    }\n",
       "\n",
       "    .dataframe tbody tr th {\n",
       "        vertical-align: top;\n",
       "    }\n",
       "\n",
       "    .dataframe thead th {\n",
       "        text-align: right;\n",
       "    }\n",
       "</style>\n",
       "<table border=\"1\" class=\"dataframe\">\n",
       "  <thead>\n",
       "    <tr style=\"text-align: right;\">\n",
       "      <th></th>\n",
       "      <th>sentids</th>\n",
       "      <th>imgid</th>\n",
       "      <th>sentences</th>\n",
       "      <th>split</th>\n",
       "      <th>filename</th>\n",
       "    </tr>\n",
       "  </thead>\n",
       "  <tbody>\n",
       "    <tr>\n",
       "      <th>0</th>\n",
       "      <td>[0, 1, 2, 3, 4]</td>\n",
       "      <td>0</td>\n",
       "      <td>[{'tokens': ['There', 'is', 'a', 'piece', 'of'...</td>\n",
       "      <td>train</td>\n",
       "      <td>1.tif</td>\n",
       "    </tr>\n",
       "    <tr>\n",
       "      <th>1</th>\n",
       "      <td>[5, 6, 7, 8, 9]</td>\n",
       "      <td>1</td>\n",
       "      <td>[{'tokens': ['There', 'is', 'a', 'piece', 'of'...</td>\n",
       "      <td>train</td>\n",
       "      <td>2.tif</td>\n",
       "    </tr>\n",
       "    <tr>\n",
       "      <th>2</th>\n",
       "      <td>[10, 11, 12, 13, 14]</td>\n",
       "      <td>2</td>\n",
       "      <td>[{'tokens': ['There', 'is', 'a', 'piece', 'of'...</td>\n",
       "      <td>train</td>\n",
       "      <td>3.tif</td>\n",
       "    </tr>\n",
       "    <tr>\n",
       "      <th>3</th>\n",
       "      <td>[15, 16, 17, 18, 19]</td>\n",
       "      <td>3</td>\n",
       "      <td>[{'tokens': ['There', 'is', 'a', 'piece', 'of'...</td>\n",
       "      <td>train</td>\n",
       "      <td>4.tif</td>\n",
       "    </tr>\n",
       "    <tr>\n",
       "      <th>4</th>\n",
       "      <td>[20, 21, 22, 23, 24]</td>\n",
       "      <td>4</td>\n",
       "      <td>[{'tokens': ['There', 'is', 'a', 'piece', 'of'...</td>\n",
       "      <td>train</td>\n",
       "      <td>5.tif</td>\n",
       "    </tr>\n",
       "    <tr>\n",
       "      <th>...</th>\n",
       "      <td>...</td>\n",
       "      <td>...</td>\n",
       "      <td>...</td>\n",
       "      <td>...</td>\n",
       "      <td>...</td>\n",
       "    </tr>\n",
       "    <tr>\n",
       "      <th>2095</th>\n",
       "      <td>[10475, 10476, 10477, 10478, 10479]</td>\n",
       "      <td>2095</td>\n",
       "      <td>[{'tokens': ['Many', 'tennis', 'courts', 'arra...</td>\n",
       "      <td>test</td>\n",
       "      <td>2096.tif</td>\n",
       "    </tr>\n",
       "    <tr>\n",
       "      <th>2096</th>\n",
       "      <td>[10480, 10481, 10482, 10483, 10484]</td>\n",
       "      <td>2096</td>\n",
       "      <td>[{'tokens': ['A', 'small', 'tennis', 'court', ...</td>\n",
       "      <td>test</td>\n",
       "      <td>2097.tif</td>\n",
       "    </tr>\n",
       "    <tr>\n",
       "      <th>2097</th>\n",
       "      <td>[10485, 10486, 10487, 10488, 10489]</td>\n",
       "      <td>2097</td>\n",
       "      <td>[{'tokens': ['A', 'small', 'tennis', 'court', ...</td>\n",
       "      <td>test</td>\n",
       "      <td>2098.tif</td>\n",
       "    </tr>\n",
       "    <tr>\n",
       "      <th>2098</th>\n",
       "      <td>[10490, 10491, 10492, 10493, 10494]</td>\n",
       "      <td>2098</td>\n",
       "      <td>[{'tokens': ['Four', 'tennis', 'courts', 'on',...</td>\n",
       "      <td>test</td>\n",
       "      <td>2099.tif</td>\n",
       "    </tr>\n",
       "    <tr>\n",
       "      <th>2099</th>\n",
       "      <td>[10495, 10496, 10497, 10498, 10499]</td>\n",
       "      <td>2099</td>\n",
       "      <td>[{'tokens': ['Four', 'tennis', 'courts', 'on',...</td>\n",
       "      <td>test</td>\n",
       "      <td>2100.tif</td>\n",
       "    </tr>\n",
       "  </tbody>\n",
       "</table>\n",
       "<p>2100 rows × 5 columns</p>\n",
       "</div>"
      ],
      "text/plain": [
       "                                  sentids  imgid  \\\n",
       "0                         [0, 1, 2, 3, 4]      0   \n",
       "1                         [5, 6, 7, 8, 9]      1   \n",
       "2                    [10, 11, 12, 13, 14]      2   \n",
       "3                    [15, 16, 17, 18, 19]      3   \n",
       "4                    [20, 21, 22, 23, 24]      4   \n",
       "...                                   ...    ...   \n",
       "2095  [10475, 10476, 10477, 10478, 10479]   2095   \n",
       "2096  [10480, 10481, 10482, 10483, 10484]   2096   \n",
       "2097  [10485, 10486, 10487, 10488, 10489]   2097   \n",
       "2098  [10490, 10491, 10492, 10493, 10494]   2098   \n",
       "2099  [10495, 10496, 10497, 10498, 10499]   2099   \n",
       "\n",
       "                                              sentences  split  filename  \n",
       "0     [{'tokens': ['There', 'is', 'a', 'piece', 'of'...  train     1.tif  \n",
       "1     [{'tokens': ['There', 'is', 'a', 'piece', 'of'...  train     2.tif  \n",
       "2     [{'tokens': ['There', 'is', 'a', 'piece', 'of'...  train     3.tif  \n",
       "3     [{'tokens': ['There', 'is', 'a', 'piece', 'of'...  train     4.tif  \n",
       "4     [{'tokens': ['There', 'is', 'a', 'piece', 'of'...  train     5.tif  \n",
       "...                                                 ...    ...       ...  \n",
       "2095  [{'tokens': ['Many', 'tennis', 'courts', 'arra...   test  2096.tif  \n",
       "2096  [{'tokens': ['A', 'small', 'tennis', 'court', ...   test  2097.tif  \n",
       "2097  [{'tokens': ['A', 'small', 'tennis', 'court', ...   test  2098.tif  \n",
       "2098  [{'tokens': ['Four', 'tennis', 'courts', 'on',...   test  2099.tif  \n",
       "2099  [{'tokens': ['Four', 'tennis', 'courts', 'on',...   test  2100.tif  \n",
       "\n",
       "[2100 rows x 5 columns]"
      ]
     },
     "execution_count": 40,
     "metadata": {},
     "output_type": "execute_result"
    }
   ],
   "source": [
    "umc_df"
   ]
  },
  {
   "cell_type": "code",
   "execution_count": 39,
   "metadata": {},
   "outputs": [
    {
     "data": {
      "text/plain": [
       "[{'tokens': ['There', 'is', 'a', 'piece', 'of', 'farmland'],\n",
       "  'raw': 'There is a piece of farmland .',\n",
       "  'imgid': 0,\n",
       "  'sentid': 0},\n",
       " {'tokens': ['There', 'is', 'a', 'piece', 'of', 'cropland'],\n",
       "  'raw': 'There is a piece of cropland .',\n",
       "  'imgid': 0,\n",
       "  'sentid': 1},\n",
       " {'tokens': ['It', 'is', 'a', 'piece', 'of', 'farmland'],\n",
       "  'raw': 'It is a piece of farmland .',\n",
       "  'imgid': 0,\n",
       "  'sentid': 2},\n",
       " {'tokens': ['It', 'is', 'a', 'piece', 'of', 'cropland'],\n",
       "  'raw': 'It is a piece of cropland .',\n",
       "  'imgid': 0,\n",
       "  'sentid': 3},\n",
       " {'tokens': ['Here', 'is', 'a', 'piece', 'of', 'farmland'],\n",
       "  'raw': 'Here is a piece of farmland .',\n",
       "  'imgid': 0,\n",
       "  'sentid': 4}]"
      ]
     },
     "execution_count": 39,
     "metadata": {},
     "output_type": "execute_result"
    }
   ],
   "source": [
    "umc_df['sentences'][0]"
   ]
  },
  {
   "cell_type": "code",
   "execution_count": null,
   "metadata": {},
   "outputs": [],
   "source": []
  }
 ],
 "metadata": {
  "celltoolbar": "Slideshow",
  "kernelspec": {
   "display_name": "Python 3",
   "language": "python",
   "name": "python3"
  },
  "language_info": {
   "codemirror_mode": {
    "name": "ipython",
    "version": 3
   },
   "file_extension": ".py",
   "mimetype": "text/x-python",
   "name": "python",
   "nbconvert_exporter": "python",
   "pygments_lexer": "ipython3",
   "version": "3.7.6"
  }
 },
 "nbformat": 4,
 "nbformat_minor": 4
}
