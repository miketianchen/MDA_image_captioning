{
 "cells": [
  {
   "cell_type": "markdown",
   "metadata": {},
   "source": [
    "# Exploratory data analysis"
   ]
  },
  {
   "cell_type": "markdown",
   "metadata": {},
   "source": [
    "## 1. Dataset description\n"
   ]
  },
  {
   "cell_type": "markdown",
   "metadata": {},
   "source": [
    "## 2. Load the dataset"
   ]
  },
  {
   "cell_type": "code",
   "execution_count": 6,
   "metadata": {},
   "outputs": [],
   "source": [
    "import json\n",
    "# from tqdm import tqdm\n",
    "# import os"
   ]
  },
  {
   "cell_type": "code",
   "execution_count": 7,
   "metadata": {},
   "outputs": [],
   "source": [
    "with open('../data/clean_data/train.json', 'r') as json_data:\n",
    "    train = json.load(json_data)"
   ]
  },
  {
   "cell_type": "code",
   "execution_count": 17,
   "metadata": {},
   "outputs": [],
   "source": [
    "# get img path\n",
    "train_img_path = []\n",
    "\n",
    "# create a sentence lookup list\n",
    "lookup = []\n",
    "\n",
    "set_names = ['rsicd', 'ucm', 'sydney']\n",
    "for set_name in set_names:\n",
    "    for filename in train[set_name].keys():\n",
    "        train_img_path.append('../data/raw_data/imgs/'+ set_name + '/' + filename)\n",
    "        lookup.append([caption['raw'] for caption in train[set_name][filename]['sentences']])"
   ]
  },
  {
   "cell_type": "code",
   "execution_count": 15,
   "metadata": {},
   "outputs": [
    {
     "data": {
      "text/plain": [
       "['../data/raw_data/imgs/rsicd/church_212.jpg',\n",
       " '../data/raw_data/imgs/rsicd/church_145.jpg',\n",
       " '../data/raw_data/imgs/rsicd/farmland_12.jpg',\n",
       " '../data/raw_data/imgs/rsicd/beach_161.jpg',\n",
       " '../data/raw_data/imgs/rsicd/sparseresidential_227.jpg',\n",
       " '../data/raw_data/imgs/rsicd/pond_60.jpg',\n",
       " '../data/raw_data/imgs/rsicd/denseresidential_31.jpg',\n",
       " '../data/raw_data/imgs/rsicd/00072.jpg',\n",
       " '../data/raw_data/imgs/rsicd/industrial_202.jpg',\n",
       " '../data/raw_data/imgs/rsicd/bareland_43.jpg']"
      ]
     },
     "execution_count": 15,
     "metadata": {},
     "output_type": "execute_result"
    }
   ],
   "source": [
    "train_img_path[:10]"
   ]
  },
  {
   "cell_type": "code",
   "execution_count": 18,
   "metadata": {},
   "outputs": [
    {
     "data": {
      "text/plain": [
       "[['some buildings and many green trees are around a gray church .',\n",
       "  'some buildings and many green trees are around a gray church .',\n",
       "  'some buildings and many green trees are around a gray church .',\n",
       "  'some buildings and many green trees are around a gray church .',\n",
       "  'some buildings and many green trees are around a gray church .'],\n",
       " ['a church is near a river with some buildings and green trees .',\n",
       "  'a church is near a river with some buildings and green trees .',\n",
       "  'a church is near a river with some buildings and green trees .',\n",
       "  'a church is near a river with some buildings and green trees .',\n",
       "  'a church is near a river with some buildings and green trees .'],\n",
       " ['several pieces of farmland s are together .',\n",
       "  'the textures in the farmland are very beautiful .',\n",
       "  'the textures in the farmland are very beautiful .',\n",
       "  'several pieces of farmland s are together .',\n",
       "  'several pieces of farmland s are together .'],\n",
       " ['two rows of waves in green ocean are near a yellow beach .',\n",
       "  'two rows of waves in green ocean are near a yellow beach .',\n",
       "  'two rows of waves in green ocean are near a yellow beach .',\n",
       "  'two rows of waves in green ocean are near a yellow beach .',\n",
       "  'two rows of waves in green ocean are near a yellow beach .'],\n",
       " ['a building with a swimming pool is surrounded by some green trees and meadows .',\n",
       "  'a building with a swimming pool is surrounded by some green trees and meadows .',\n",
       "  'a building with a swimming pool is surrounded by some green trees and meadows .',\n",
       "  'a building with a swimming pool is surrounded by some green trees and meadows .',\n",
       "  'a building with a swimming pool is surrounded by some green trees and meadows .'],\n",
       " ['there is a pond with green water surrounded by trees and some houses .',\n",
       "  'here is a rounded triangle lake with roads trees and houses built along.',\n",
       "  'here is a rounded triangle lake with roads trees and houses built along.',\n",
       "  'rows of houses and roads surrounds this green triangular pond .',\n",
       "  'an almost triangular green pond is surrounded by many green trees and some gray buildings .'],\n",
       " ['many buildings and green trees are in a dense residential area .',\n",
       "  'many buildings and green trees are in a dense residential area .',\n",
       "  'many buildings and green trees are in a dense residential area .',\n",
       "  'many buildings and green trees are in a dense residential area .',\n",
       "  'many buildings and green trees are in a dense residential area .'],\n",
       " ['a football field is wreathed by dense woods and houses decorated with red roofs .',\n",
       "  'a football field and many red house and green trees beside .',\n",
       "  'a piece of red buildings with green plants is next to a playground with two basketball fields next to it .',\n",
       "  'a playground semi surrounded by many buildings is next to many red long buildings and green trees.',\n",
       "  'a large playground with two basketball fields next to it is semi-surrounded by red houses .'],\n",
       " ['many buildings and green trees are in an industrial area .',\n",
       "  'many buildings and green trees are in an industrial area .',\n",
       "  'many buildings and green trees are in an industrial area .',\n",
       "  'many buildings and green trees are in an industrial area .',\n",
       "  'many buildings and green trees are in an industrial area .'],\n",
       " ['the grey green land has many gullies .',\n",
       "  'there are green stripes in the yellow ground .',\n",
       "  'there are green stripes in the yellow ground .',\n",
       "  'this bare land is messily striped with ruttings.',\n",
       "  'it is a piece of gray green bare land.']]"
      ]
     },
     "execution_count": 18,
     "metadata": {},
     "output_type": "execute_result"
    }
   ],
   "source": [
    "lookup[:10]"
   ]
  },
  {
   "cell_type": "markdown",
   "metadata": {},
   "source": [
    "## 3. Explore the dataset"
   ]
  },
  {
   "cell_type": "markdown",
   "metadata": {},
   "source": [
    "## 4. Initial thoughts\n"
   ]
  },
  {
   "cell_type": "markdown",
   "metadata": {},
   "source": [
    "## 5. Wrangling"
   ]
  },
  {
   "cell_type": "markdown",
   "metadata": {},
   "source": [
    "## 6. Research questions\n",
    "\n"
   ]
  },
  {
   "cell_type": "markdown",
   "metadata": {},
   "source": [
    "## 7. Data Analysis & Visualizations"
   ]
  },
  {
   "cell_type": "markdown",
   "metadata": {},
   "source": [
    "## 8. Summary and conclusions\n"
   ]
  },
  {
   "cell_type": "code",
   "execution_count": null,
   "metadata": {},
   "outputs": [],
   "source": []
  }
 ],
 "metadata": {
  "kernelspec": {
   "display_name": "Python 3",
   "language": "python",
   "name": "python3"
  },
  "language_info": {
   "codemirror_mode": {
    "name": "ipython",
    "version": 3
   },
   "file_extension": ".py",
   "mimetype": "text/x-python",
   "name": "python",
   "nbconvert_exporter": "python",
   "pygments_lexer": "ipython3",
   "version": "3.7.6"
  }
 },
 "nbformat": 4,
 "nbformat_minor": 4
}
